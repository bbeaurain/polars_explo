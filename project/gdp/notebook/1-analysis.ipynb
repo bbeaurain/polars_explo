{
 "cells": [
  {
   "cell_type": "code",
   "execution_count": 1,
   "metadata": {},
   "outputs": [],
   "source": [
    "import os\n",
    "import polars as pl"
   ]
  },
  {
   "cell_type": "markdown",
   "metadata": {},
   "source": [
    "# Import Dataset"
   ]
  },
  {
   "cell_type": "code",
   "execution_count": 2,
   "metadata": {},
   "outputs": [],
   "source": [
    "local_path='dataset/'\n",
    "file_country_codes='country_codes.csv'\n",
    "file_gdp_data='gdp_data.csv'\n",
    "auto='auto'"
   ]
  },
  {
   "cell_type": "code",
   "execution_count": 3,
   "metadata": {},
   "outputs": [
    {
     "name": "stdout",
     "output_type": "stream",
     "text": [
      "Current Directory /Users/baptistebeaurain/Google Drive/learning/Python/polars_explo/project/gdp/notebook\n",
      "\n",
      "Parent directory /Users/baptistebeaurain/Google Drive/learning/Python/polars_explo/project/gdp\n",
      "\n",
      "Dataset Country Code path /Users/baptistebeaurain/Google Drive/learning/Python/polars_explo/project/gdp/dataset/country_codes.csv\n",
      "\n",
      "Dataset GDP path /Users/baptistebeaurain/Google Drive/learning/Python/polars_explo/project/gdp/dataset/gdp_data.csv\n",
      "\n",
      "Dump path /Users/baptistebeaurain/Google Drive/learning/Python/polars_explo/project/gdp/auto\n"
     ]
    }
   ],
   "source": [
    "# get current directory\n",
    "path = os.getcwd()\n",
    "print(\"Current Directory\", path)\n",
    "print()\n",
    " \n",
    "# parent directory\n",
    "parent = os.path.dirname(path)\n",
    "print(\"Parent directory\", parent)\n",
    "print()\n",
    "\n",
    "# country code dataset path\n",
    "dataset_path_country_code=os.path.join(parent,local_path,file_country_codes)\n",
    "print(\"Dataset Country Code path\",dataset_path_country_code)\n",
    "print()\n",
    "\n",
    "# gdp dataset path\n",
    "dataset_path_gdp_data=os.path.join(parent,local_path,file_gdp_data)\n",
    "print(\"Dataset GDP path\",dataset_path_gdp_data)\n",
    "print()\n",
    "\n",
    "# auto path\n",
    "path_auto=os.path.join(parent,auto)\n",
    "print(\"Dump path\",path_auto)"
   ]
  },
  {
   "cell_type": "code",
   "execution_count": 4,
   "metadata": {},
   "outputs": [
    {
     "name": "stdout",
     "output_type": "stream",
     "text": [
      "shape: (250, 2)\n"
     ]
    },
    {
     "data": {
      "text/html": [
       "<div><style>\n",
       ".dataframe > thead > tr,\n",
       ".dataframe > tbody > tr {\n",
       "  text-align: right;\n",
       "  white-space: pre-wrap;\n",
       "}\n",
       "</style>\n",
       "<small>shape: (5, 2)</small><table border=\"1\" class=\"dataframe\"><thead><tr><th>Code</th><th>Name</th></tr><tr><td>str</td><td>str</td></tr></thead><tbody><tr><td>&quot;TWN&quot;</td><td>&quot;Taiwan&quot;</td></tr><tr><td>&quot;AFG&quot;</td><td>&quot;Afghanistan&quot;</td></tr><tr><td>&quot;ALB&quot;</td><td>&quot;Albania&quot;</td></tr><tr><td>&quot;DZA&quot;</td><td>&quot;Algeria&quot;</td></tr><tr><td>&quot;ASM&quot;</td><td>&quot;American Samoa…</td></tr></tbody></table></div>"
      ],
      "text/plain": [
       "shape: (5, 2)\n",
       "┌──────┬────────────────┐\n",
       "│ Code ┆ Name           │\n",
       "│ ---  ┆ ---            │\n",
       "│ str  ┆ str            │\n",
       "╞══════╪════════════════╡\n",
       "│ TWN  ┆ Taiwan         │\n",
       "│ AFG  ┆ Afghanistan    │\n",
       "│ ALB  ┆ Albania        │\n",
       "│ DZA  ┆ Algeria        │\n",
       "│ ASM  ┆ American Samoa │\n",
       "└──────┴────────────────┘"
      ]
     },
     "execution_count": 4,
     "metadata": {},
     "output_type": "execute_result"
    }
   ],
   "source": [
    "df_country_code=pl.read_csv(dataset_path_country_code)\n",
    "\n",
    "print(\"shape:\", df_country_code.shape)\n",
    "\n",
    "df_country_code.head(5)"
   ]
  },
  {
   "cell_type": "code",
   "execution_count": 5,
   "metadata": {},
   "outputs": [
    {
     "name": "stdout",
     "output_type": "stream",
     "text": [
      "shape: (11507, 4)\n"
     ]
    },
    {
     "data": {
      "text/html": [
       "<div><style>\n",
       ".dataframe > thead > tr,\n",
       ".dataframe > tbody > tr {\n",
       "  text-align: right;\n",
       "  white-space: pre-wrap;\n",
       "}\n",
       "</style>\n",
       "<small>shape: (5, 4)</small><table border=\"1\" class=\"dataframe\"><thead><tr><th>cty_name</th><th>cty_code</th><th>year</th><th>gdp</th></tr><tr><td>str</td><td>str</td><td>i64</td><td>f64</td></tr></thead><tbody><tr><td>&quot;Aruba&quot;</td><td>&quot;ABW&quot;</td><td>1994</td><td>1.3302e9</td></tr><tr><td>&quot;Aruba&quot;</td><td>&quot;ABW&quot;</td><td>1995</td><td>1.3207e9</td></tr><tr><td>&quot;Aruba&quot;</td><td>&quot;ABW&quot;</td><td>1996</td><td>1.3799e9</td></tr><tr><td>&quot;Aruba&quot;</td><td>&quot;ABW&quot;</td><td>1997</td><td>1.5318e9</td></tr><tr><td>&quot;Aruba&quot;</td><td>&quot;ABW&quot;</td><td>1998</td><td>1.6654e9</td></tr></tbody></table></div>"
      ],
      "text/plain": [
       "shape: (5, 4)\n",
       "┌──────────┬──────────┬──────┬──────────┐\n",
       "│ cty_name ┆ cty_code ┆ year ┆ gdp      │\n",
       "│ ---      ┆ ---      ┆ ---  ┆ ---      │\n",
       "│ str      ┆ str      ┆ i64  ┆ f64      │\n",
       "╞══════════╪══════════╪══════╪══════════╡\n",
       "│ Aruba    ┆ ABW      ┆ 1994 ┆ 1.3302e9 │\n",
       "│ Aruba    ┆ ABW      ┆ 1995 ┆ 1.3207e9 │\n",
       "│ Aruba    ┆ ABW      ┆ 1996 ┆ 1.3799e9 │\n",
       "│ Aruba    ┆ ABW      ┆ 1997 ┆ 1.5318e9 │\n",
       "│ Aruba    ┆ ABW      ┆ 1998 ┆ 1.6654e9 │\n",
       "└──────────┴──────────┴──────┴──────────┘"
      ]
     },
     "execution_count": 5,
     "metadata": {},
     "output_type": "execute_result"
    }
   ],
   "source": [
    "df_gdp_data=pl.read_csv(dataset_path_gdp_data)\n",
    "df_gdp_data=df_gdp_data.sort(['Country Code','Year'])\n",
    "\n",
    "col_rename={\n",
    "    'Country Name':'cty_name',\n",
    "    'Country Code':'cty_code',\n",
    "    'Year': 'year',\n",
    "    'Value': 'gdp'\n",
    "    }\n",
    "\n",
    "df_gdp_data = df_gdp_data.rename(col_rename)\n",
    "\n",
    "print(\"shape:\", df_gdp_data.shape)\n",
    "\n",
    "df_gdp_data.head(5)"
   ]
  },
  {
   "cell_type": "markdown",
   "metadata": {},
   "source": [
    "# Challenges"
   ]
  },
  {
   "cell_type": "markdown",
   "metadata": {},
   "source": [
    " ## Calculate GDP evolution per year"
   ]
  },
  {
   "cell_type": "code",
   "execution_count": 6,
   "metadata": {},
   "outputs": [
    {
     "name": "stdout",
     "output_type": "stream",
     "text": [
      "shape: (11_251, 9)\n",
      "┌──────────┬──────────┬──────┬───────────┬───┬───────────┬──────────┬─────────┬──────────────────┐\n",
      "│ cty_name ┆ cty_code ┆ year ┆ gdp       ┆ … ┆ prev_year ┆ gdp_evol ┆ nb_year ┆ gdp_evol_percent │\n",
      "│ ---      ┆ ---      ┆ ---  ┆ ---       ┆   ┆ ---       ┆ ---      ┆ ---     ┆ ---              │\n",
      "│ str      ┆ str      ┆ i64  ┆ f64       ┆   ┆ i64       ┆ f64      ┆ i64     ┆ f64              │\n",
      "╞══════════╪══════════╪══════╪═══════════╪═══╪═══════════╪══════════╪═════════╪══════════════════╡\n",
      "│ Aruba    ┆ ABW      ┆ 1995 ┆ 1.3207e9  ┆ … ┆ 1994      ┆ 0.99286  ┆ 1       ┆ -0.713986        │\n",
      "│ Aruba    ┆ ABW      ┆ 1996 ┆ 1.3799e9  ┆ … ┆ 1995      ┆ 1.044839 ┆ 1       ┆ 4.483926         │\n",
      "│ Aruba    ┆ ABW      ┆ 1997 ┆ 1.5318e9  ┆ … ┆ 1996      ┆ 1.110121 ┆ 1       ┆ 11.012146        │\n",
      "│ Aruba    ┆ ABW      ┆ 1998 ┆ 1.6654e9  ┆ … ┆ 1997      ┆ 1.087163 ┆ 1       ┆ 8.716265         │\n",
      "│ …        ┆ …        ┆ …    ┆ …         ┆ … ┆ …         ┆ …        ┆ …       ┆ …                │\n",
      "│ Zimbabwe ┆ ZWE      ┆ 2013 ┆ 1.5452e10 ┆ … ┆ 2012      ┆ 1.084906 ┆ 1       ┆ 8.490639         │\n",
      "│ Zimbabwe ┆ ZWE      ┆ 2014 ┆ 1.5891e10 ┆ … ┆ 2013      ┆ 1.028429 ┆ 1       ┆ 2.842915         │\n",
      "│ Zimbabwe ┆ ZWE      ┆ 2015 ┆ 1.6305e10 ┆ … ┆ 2014      ┆ 1.026028 ┆ 1       ┆ 2.60284          │\n",
      "│ Zimbabwe ┆ ZWE      ┆ 2016 ┆ 1.6620e10 ┆ … ┆ 2015      ┆ 1.019338 ┆ 1       ┆ 1.933757         │\n",
      "└──────────┴──────────┴──────┴───────────┴───┴───────────┴──────────┴─────────┴──────────────────┘\n"
     ]
    }
   ],
   "source": [
    "gdp_df = df_gdp_data.sort(['cty_code', 'year']).select([\n",
    "    pl.col('*'),\n",
    "    pl.col('gdp').shift(1).over('cty_code').alias('prev_gdp'),\n",
    "    pl.col('year').shift(1).over('cty_code').alias('prev_year'),\n",
    "])\n",
    "\n",
    "gdp_evol_df=gdp_df.with_columns(\n",
    "    (((pl.col('gdp')/pl.col('prev_gdp')))).alias('gdp_evol'),\n",
    "    (pl.col('year')-pl.col('prev_year')).alias('nb_year'),\n",
    ")\n",
    "gdp_evol_df=gdp_evol_df.with_columns(\n",
    "    ((pl.col('gdp_evol').pow(1/pl.col('nb_year'))-1)*100).alias('gdp_evol_percent'),\n",
    ")\n",
    "\n",
    "gdp_evol_df = gdp_evol_df.filter((pl.col('prev_year').is_not_null()))\n",
    "\n",
    "# Display or save the result\n",
    "print(gdp_evol_df)\n",
    "# OR\n",
    "gdp_evol_df.write_csv(os.path.join(path_auto,'gdp_evol_df.csv'))\n"
   ]
  },
  {
   "cell_type": "code",
   "execution_count": 7,
   "metadata": {},
   "outputs": [
    {
     "name": "stdout",
     "output_type": "stream",
     "text": [
      "shape: (9, 10)\n",
      "┌────────────┬────────────┬──────────┬───────────┬───┬───────────┬──────────┬──────────┬───────────┐\n",
      "│ describe   ┆ cty_name   ┆ cty_code ┆ year      ┆ … ┆ prev_year ┆ gdp_evol ┆ nb_year  ┆ gdp_evol_ │\n",
      "│ ---        ┆ ---        ┆ ---      ┆ ---       ┆   ┆ ---       ┆ ---      ┆ ---      ┆ percent   │\n",
      "│ str        ┆ str        ┆ str      ┆ f64       ┆   ┆ f64       ┆ f64      ┆ f64      ┆ ---       │\n",
      "│            ┆            ┆          ┆           ┆   ┆           ┆          ┆          ┆ f64       │\n",
      "╞════════════╪════════════╪══════════╪═══════════╪═══╪═══════════╪══════════╪══════════╪═══════════╡\n",
      "│ count      ┆ 11251      ┆ 11251    ┆ 11251.0   ┆ … ┆ 11251.0   ┆ 11251.0  ┆ 11251.0  ┆ 11251.0   │\n",
      "│ null_count ┆ 0          ┆ 0        ┆ 0.0       ┆ … ┆ 0.0       ┆ 0.0      ┆ 0.0      ┆ 0.0       │\n",
      "│ mean       ┆ null       ┆ null     ┆ 1991.7189 ┆ … ┆ 1990.7109 ┆ 1.085501 ┆ 1.007999 ┆ 8.462492  │\n",
      "│            ┆            ┆          ┆ 58        ┆   ┆ 59        ┆          ┆          ┆           │\n",
      "│ std        ┆ null       ┆ null     ┆ 15.626853 ┆ … ┆ 15.62822  ┆ 0.161892 ┆ 0.315986 ┆ 15.078041 │\n",
      "│ min        ┆ Afghanista ┆ ABW      ┆ 1961.0    ┆ … ┆ 1960.0    ┆ 0.203618 ┆ 1.0      ┆ -75.24641 │\n",
      "│            ┆ n          ┆          ┆           ┆   ┆           ┆          ┆          ┆ 5         │\n",
      "│ 25%        ┆ null       ┆ null     ┆ 1979.0    ┆ … ┆ 1978.0    ┆ 1.014069 ┆ 1.0      ┆ 1.406904  │\n",
      "│ 50%        ┆ null       ┆ null     ┆ 1993.0    ┆ … ┆ 1992.0    ┆ 1.077888 ┆ 1.0      ┆ 7.785573  │\n",
      "│ 75%        ┆ null       ┆ null     ┆ 2005.0    ┆ … ┆ 2004.0    ┆ 1.149078 ┆ 1.0      ┆ 14.891049 │\n",
      "│ max        ┆ Zimbabwe   ┆ ZWE      ┆ 2016.0    ┆ … ┆ 2015.0    ┆ 5.798246 ┆ 20.0     ┆ 409.32923 │\n",
      "│            ┆            ┆          ┆           ┆   ┆           ┆          ┆          ┆ 5         │\n",
      "└────────────┴────────────┴──────────┴───────────┴───┴───────────┴──────────┴──────────┴───────────┘\n"
     ]
    }
   ],
   "source": [
    "# Display statistics for numeric columns\n",
    "stats = gdp_evol_df.describe()\n",
    "print(stats)"
   ]
  },
  {
   "cell_type": "markdown",
   "metadata": {},
   "source": [
    "# Descriptive Stats"
   ]
  },
  {
   "cell_type": "markdown",
   "metadata": {},
   "source": [
    "## Top 10 GDP Increase"
   ]
  },
  {
   "cell_type": "code",
   "execution_count": 8,
   "metadata": {},
   "outputs": [
    {
     "data": {
      "text/html": [
       "<div><style>\n",
       ".dataframe > thead > tr,\n",
       ".dataframe > tbody > tr {\n",
       "  text-align: right;\n",
       "  white-space: pre-wrap;\n",
       "}\n",
       "</style>\n",
       "<small>shape: (10, 9)</small><table border=\"1\" class=\"dataframe\"><thead><tr><th>cty_name</th><th>cty_code</th><th>year</th><th>gdp</th><th>prev_gdp</th><th>prev_year</th><th>gdp_evol</th><th>nb_year</th><th>gdp_evol_percent</th></tr><tr><td>str</td><td>str</td><td>i64</td><td>f64</td><td>f64</td><td>i64</td><td>f64</td><td>i64</td><td>f64</td></tr></thead><tbody><tr><td>&quot;Equatorial Gui…</td><td>&quot;GNQ&quot;</td><td>1965</td><td>6.4748e7</td><td>1.2712e7</td><td>1964</td><td>5.093292</td><td>1</td><td>409.329235</td></tr><tr><td>&quot;Congo, Dem. Re…</td><td>&quot;COD&quot;</td><td>2000</td><td>1.9088e10</td><td>4.7113e9</td><td>1999</td><td>4.05158</td><td>1</td><td>305.158039</td></tr><tr><td>&quot;Oman&quot;</td><td>&quot;OMN&quot;</td><td>1974</td><td>1.6459e9</td><td>4.8303e8</td><td>1973</td><td>3.407458</td><td>1</td><td>240.745788</td></tr><tr><td>&quot;Saudi Arabia&quot;</td><td>&quot;SAU&quot;</td><td>1974</td><td>4.5413e10</td><td>1.4947e10</td><td>1973</td><td>3.038186</td><td>1</td><td>203.818622</td></tr><tr><td>&quot;Qatar&quot;</td><td>&quot;QAT&quot;</td><td>1974</td><td>2.4014e9</td><td>7.9388e8</td><td>1973</td><td>3.024878</td><td>1</td><td>202.487783</td></tr><tr><td>&quot;Iraq&quot;</td><td>&quot;IRQ&quot;</td><td>1990</td><td>1.7989e11</td><td>6.5641e10</td><td>1989</td><td>2.740434</td><td>1</td><td>174.043385</td></tr><tr><td>&quot;Kiribati&quot;</td><td>&quot;KIR&quot;</td><td>1974</td><td>8.5637e7</td><td>3.1711e7</td><td>1973</td><td>2.70058</td><td>1</td><td>170.05802</td></tr><tr><td>&quot;Brunei Darussa…</td><td>&quot;BRN&quot;</td><td>1974</td><td>1.0736e9</td><td>4.3309e8</td><td>1973</td><td>2.478866</td><td>1</td><td>147.88661</td></tr><tr><td>&quot;Kuwait&quot;</td><td>&quot;KWT&quot;</td><td>1974</td><td>1.3005e10</td><td>5.4083e9</td><td>1973</td><td>2.404598</td><td>1</td><td>140.45983</td></tr><tr><td>&quot;Iraq&quot;</td><td>&quot;IRQ&quot;</td><td>1974</td><td>1.1517e10</td><td>5.1344e9</td><td>1973</td><td>2.243073</td><td>1</td><td>124.307317</td></tr></tbody></table></div>"
      ],
      "text/plain": [
       "shape: (10, 9)\n",
       "┌───────────────┬──────────┬──────┬───────────┬───┬───────────┬──────────┬─────────┬───────────────┐\n",
       "│ cty_name      ┆ cty_code ┆ year ┆ gdp       ┆ … ┆ prev_year ┆ gdp_evol ┆ nb_year ┆ gdp_evol_perc │\n",
       "│ ---           ┆ ---      ┆ ---  ┆ ---       ┆   ┆ ---       ┆ ---      ┆ ---     ┆ ent           │\n",
       "│ str           ┆ str      ┆ i64  ┆ f64       ┆   ┆ i64       ┆ f64      ┆ i64     ┆ ---           │\n",
       "│               ┆          ┆      ┆           ┆   ┆           ┆          ┆         ┆ f64           │\n",
       "╞═══════════════╪══════════╪══════╪═══════════╪═══╪═══════════╪══════════╪═════════╪═══════════════╡\n",
       "│ Equatorial    ┆ GNQ      ┆ 1965 ┆ 6.4748e7  ┆ … ┆ 1964      ┆ 5.093292 ┆ 1       ┆ 409.329235    │\n",
       "│ Guinea        ┆          ┆      ┆           ┆   ┆           ┆          ┆         ┆               │\n",
       "│ Congo, Dem.   ┆ COD      ┆ 2000 ┆ 1.9088e10 ┆ … ┆ 1999      ┆ 4.05158  ┆ 1       ┆ 305.158039    │\n",
       "│ Rep.          ┆          ┆      ┆           ┆   ┆           ┆          ┆         ┆               │\n",
       "│ Oman          ┆ OMN      ┆ 1974 ┆ 1.6459e9  ┆ … ┆ 1973      ┆ 3.407458 ┆ 1       ┆ 240.745788    │\n",
       "│ Saudi Arabia  ┆ SAU      ┆ 1974 ┆ 4.5413e10 ┆ … ┆ 1973      ┆ 3.038186 ┆ 1       ┆ 203.818622    │\n",
       "│ …             ┆ …        ┆ …    ┆ …         ┆ … ┆ …         ┆ …        ┆ …       ┆ …             │\n",
       "│ Kiribati      ┆ KIR      ┆ 1974 ┆ 8.5637e7  ┆ … ┆ 1973      ┆ 2.70058  ┆ 1       ┆ 170.05802     │\n",
       "│ Brunei        ┆ BRN      ┆ 1974 ┆ 1.0736e9  ┆ … ┆ 1973      ┆ 2.478866 ┆ 1       ┆ 147.88661     │\n",
       "│ Darussalam    ┆          ┆      ┆           ┆   ┆           ┆          ┆         ┆               │\n",
       "│ Kuwait        ┆ KWT      ┆ 1974 ┆ 1.3005e10 ┆ … ┆ 1973      ┆ 2.404598 ┆ 1       ┆ 140.45983     │\n",
       "│ Iraq          ┆ IRQ      ┆ 1974 ┆ 1.1517e10 ┆ … ┆ 1973      ┆ 2.243073 ┆ 1       ┆ 124.307317    │\n",
       "└───────────────┴──────────┴──────┴───────────┴───┴───────────┴──────────┴─────────┴───────────────┘"
      ]
     },
     "execution_count": 8,
     "metadata": {},
     "output_type": "execute_result"
    }
   ],
   "source": [
    "top_5_values = gdp_evol_df.sort('gdp_evol_percent', descending=True)\n",
    "\n",
    "top_5_values.head(10)"
   ]
  },
  {
   "cell_type": "markdown",
   "metadata": {},
   "source": [
    "# Top 10 GDP decrease"
   ]
  },
  {
   "cell_type": "code",
   "execution_count": 9,
   "metadata": {},
   "outputs": [
    {
     "data": {
      "text/html": [
       "<div><style>\n",
       ".dataframe > thead > tr,\n",
       ".dataframe > tbody > tr {\n",
       "  text-align: right;\n",
       "  white-space: pre-wrap;\n",
       "}\n",
       "</style>\n",
       "<small>shape: (10, 9)</small><table border=\"1\" class=\"dataframe\"><thead><tr><th>cty_name</th><th>cty_code</th><th>year</th><th>gdp</th><th>prev_gdp</th><th>prev_year</th><th>gdp_evol</th><th>nb_year</th><th>gdp_evol_percent</th></tr><tr><td>str</td><td>str</td><td>i64</td><td>f64</td><td>f64</td><td>i64</td><td>f64</td><td>i64</td><td>f64</td></tr></thead><tbody><tr><td>&quot;Vietnam&quot;</td><td>&quot;VNM&quot;</td><td>1989</td><td>6.2933e9</td><td>2.5424e10</td><td>1988</td><td>0.247536</td><td>1</td><td>-75.246415</td></tr><tr><td>&quot;Serbia&quot;</td><td>&quot;SRB&quot;</td><td>2000</td><td>6.5402e9</td><td>1.8409e10</td><td>1999</td><td>0.355267</td><td>1</td><td>-64.473259</td></tr><tr><td>&quot;Argentina&quot;</td><td>&quot;ARG&quot;</td><td>2002</td><td>9.7724e10</td><td>2.6870e11</td><td>2001</td><td>0.363696</td><td>1</td><td>-63.630374</td></tr><tr><td>&quot;Rwanda&quot;</td><td>&quot;RWA&quot;</td><td>1994</td><td>7.5364e8</td><td>1.9715e9</td><td>1993</td><td>0.38226</td><td>1</td><td>-61.773957</td></tr><tr><td>&quot;Congo, Dem. Re…</td><td>&quot;COD&quot;</td><td>2001</td><td>7.4382e9</td><td>1.9088e10</td><td>2000</td><td>0.389678</td><td>1</td><td>-61.032214</td></tr><tr><td>&quot;Indonesia&quot;</td><td>&quot;IDN&quot;</td><td>1998</td><td>1.0162e11</td><td>2.2971e11</td><td>1997</td><td>0.442392</td><td>1</td><td>-55.760839</td></tr><tr><td>&quot;Mozambique&quot;</td><td>&quot;MOZ&quot;</td><td>1987</td><td>2.3541e9</td><td>5.2472e9</td><td>1986</td><td>0.448643</td><td>1</td><td>-55.135684</td></tr><tr><td>&quot;Congo, Dem. Re…</td><td>&quot;COD&quot;</td><td>1964</td><td>2.8815e9</td><td>6.2132e9</td><td>1963</td><td>0.463779</td><td>1</td><td>-53.622097</td></tr><tr><td>&quot;Libya&quot;</td><td>&quot;LBY&quot;</td><td>2011</td><td>3.4699e10</td><td>7.4773e10</td><td>2010</td><td>0.46406</td><td>1</td><td>-53.593959</td></tr><tr><td>&quot;Suriname&quot;</td><td>&quot;SUR&quot;</td><td>1989</td><td>5.4252e8</td><td>1.1609e9</td><td>1988</td><td>0.467327</td><td>1</td><td>-53.267293</td></tr></tbody></table></div>"
      ],
      "text/plain": [
       "shape: (10, 9)\n",
       "┌───────────────┬──────────┬──────┬───────────┬───┬───────────┬──────────┬─────────┬───────────────┐\n",
       "│ cty_name      ┆ cty_code ┆ year ┆ gdp       ┆ … ┆ prev_year ┆ gdp_evol ┆ nb_year ┆ gdp_evol_perc │\n",
       "│ ---           ┆ ---      ┆ ---  ┆ ---       ┆   ┆ ---       ┆ ---      ┆ ---     ┆ ent           │\n",
       "│ str           ┆ str      ┆ i64  ┆ f64       ┆   ┆ i64       ┆ f64      ┆ i64     ┆ ---           │\n",
       "│               ┆          ┆      ┆           ┆   ┆           ┆          ┆         ┆ f64           │\n",
       "╞═══════════════╪══════════╪══════╪═══════════╪═══╪═══════════╪══════════╪═════════╪═══════════════╡\n",
       "│ Vietnam       ┆ VNM      ┆ 1989 ┆ 6.2933e9  ┆ … ┆ 1988      ┆ 0.247536 ┆ 1       ┆ -75.246415    │\n",
       "│ Serbia        ┆ SRB      ┆ 2000 ┆ 6.5402e9  ┆ … ┆ 1999      ┆ 0.355267 ┆ 1       ┆ -64.473259    │\n",
       "│ Argentina     ┆ ARG      ┆ 2002 ┆ 9.7724e10 ┆ … ┆ 2001      ┆ 0.363696 ┆ 1       ┆ -63.630374    │\n",
       "│ Rwanda        ┆ RWA      ┆ 1994 ┆ 7.5364e8  ┆ … ┆ 1993      ┆ 0.38226  ┆ 1       ┆ -61.773957    │\n",
       "│ …             ┆ …        ┆ …    ┆ …         ┆ … ┆ …         ┆ …        ┆ …       ┆ …             │\n",
       "│ Mozambique    ┆ MOZ      ┆ 1987 ┆ 2.3541e9  ┆ … ┆ 1986      ┆ 0.448643 ┆ 1       ┆ -55.135684    │\n",
       "│ Congo, Dem.   ┆ COD      ┆ 1964 ┆ 2.8815e9  ┆ … ┆ 1963      ┆ 0.463779 ┆ 1       ┆ -53.622097    │\n",
       "│ Rep.          ┆          ┆      ┆           ┆   ┆           ┆          ┆         ┆               │\n",
       "│ Libya         ┆ LBY      ┆ 2011 ┆ 3.4699e10 ┆ … ┆ 2010      ┆ 0.46406  ┆ 1       ┆ -53.593959    │\n",
       "│ Suriname      ┆ SUR      ┆ 1989 ┆ 5.4252e8  ┆ … ┆ 1988      ┆ 0.467327 ┆ 1       ┆ -53.267293    │\n",
       "└───────────────┴──────────┴──────┴───────────┴───┴───────────┴──────────┴─────────┴───────────────┘"
      ]
     },
     "execution_count": 9,
     "metadata": {},
     "output_type": "execute_result"
    }
   ],
   "source": [
    "bottom_5_values = gdp_evol_df.sort('gdp_evol_percent', descending=False)\n",
    "\n",
    "bottom_5_values.head(10)"
   ]
  },
  {
   "cell_type": "code",
   "execution_count": 17,
   "metadata": {},
   "outputs": [
    {
     "name": "stdout",
     "output_type": "stream",
     "text": [
      "(32, 9)\n"
     ]
    },
    {
     "data": {
      "text/html": [
       "<div><style>\n",
       ".dataframe > thead > tr,\n",
       ".dataframe > tbody > tr {\n",
       "  text-align: right;\n",
       "  white-space: pre-wrap;\n",
       "}\n",
       "</style>\n",
       "<small>shape: (32, 9)</small><table border=\"1\" class=\"dataframe\"><thead><tr><th>cty_name</th><th>cty_code</th><th>year</th><th>gdp</th><th>prev_gdp</th><th>prev_year</th><th>gdp_evol</th><th>nb_year</th><th>gdp_evol_percent</th></tr><tr><td>str</td><td>str</td><td>i64</td><td>f64</td><td>f64</td><td>i64</td><td>f64</td><td>i64</td><td>f64</td></tr></thead><tbody><tr><td>&quot;Afghanistan&quot;</td><td>&quot;AFG&quot;</td><td>2013</td><td>2.0046e10</td><td>2.0537e10</td><td>2012</td><td>0.97613</td><td>1</td><td>-2.387006</td></tr><tr><td>&quot;American Samoa…</td><td>&quot;ASM&quot;</td><td>2013</td><td>6.41e8</td><td>6.44e8</td><td>2012</td><td>0.995342</td><td>1</td><td>-0.465839</td></tr><tr><td>&quot;Antigua and Ba…</td><td>&quot;ATG&quot;</td><td>2013</td><td>1.1929e9</td><td>1.2114e9</td><td>2012</td><td>0.98474</td><td>1</td><td>-1.526013</td></tr><tr><td>&quot;Bahamas, The&quot;</td><td>&quot;BHS&quot;</td><td>2013</td><td>1.0677e10</td><td>1.0720e10</td><td>2012</td><td>0.995961</td><td>1</td><td>-0.403899</td></tr><tr><td>&quot;Barbados&quot;</td><td>&quot;BRB&quot;</td><td>2013</td><td>4.6125e9</td><td>4.6564e9</td><td>2012</td><td>0.990583</td><td>1</td><td>-0.941725</td></tr><tr><td>&quot;Brunei Darussa…</td><td>&quot;BRN&quot;</td><td>2013</td><td>1.8094e10</td><td>1.9048e10</td><td>2012</td><td>0.949882</td><td>1</td><td>-5.011764</td></tr><tr><td>&quot;Bhutan&quot;</td><td>&quot;BTN&quot;</td><td>2013</td><td>1.7983e9</td><td>1.8237e9</td><td>2012</td><td>0.986095</td><td>1</td><td>-1.390497</td></tr><tr><td>&quot;Central Africa…</td><td>&quot;CAF&quot;</td><td>2013</td><td>1.5186e9</td><td>2.1842e9</td><td>2012</td><td>0.695255</td><td>1</td><td>-30.474475</td></tr><tr><td>&quot;Cyprus&quot;</td><td>&quot;CYP&quot;</td><td>2013</td><td>2.4085e10</td><td>2.5041e10</td><td>2012</td><td>0.961791</td><td>1</td><td>-3.820876</td></tr><tr><td>&quot;Micronesia, Fe…</td><td>&quot;FSM&quot;</td><td>2013</td><td>3.160406e8</td><td>3.261287e8</td><td>2012</td><td>0.969067</td><td>1</td><td>-3.093288</td></tr><tr><td>&quot;Gambia, The&quot;</td><td>&quot;GMB&quot;</td><td>2013</td><td>8.9896e8</td><td>9.1003e8</td><td>2012</td><td>0.987837</td><td>1</td><td>-1.216295</td></tr><tr><td>&quot;Equatorial Gui…</td><td>&quot;GNQ&quot;</td><td>2013</td><td>2.1943e10</td><td>2.2390e10</td><td>2012</td><td>0.980034</td><td>1</td><td>-1.996592</td></tr><tr><td>&hellip;</td><td>&hellip;</td><td>&hellip;</td><td>&hellip;</td><td>&hellip;</td><td>&hellip;</td><td>&hellip;</td><td>&hellip;</td><td>&hellip;</td></tr><tr><td>&quot;Middle East &amp; …</td><td>&quot;MEA&quot;</td><td>2013</td><td>3.5240e12</td><td>3.5298e12</td><td>2012</td><td>0.998375</td><td>1</td><td>-0.162471</td></tr><tr><td>&quot;Middle East &amp; …</td><td>&quot;MNA&quot;</td><td>2013</td><td>1.5917e12</td><td>1.6816e12</td><td>2012</td><td>0.94655</td><td>1</td><td>-5.345016</td></tr><tr><td>&quot;Malawi&quot;</td><td>&quot;MWI&quot;</td><td>2013</td><td>5.5189e9</td><td>6.0285e9</td><td>2012</td><td>0.915473</td><td>1</td><td>-8.452707</td></tr><tr><td>&quot;Namibia&quot;</td><td>&quot;NAM&quot;</td><td>2013</td><td>1.2718e10</td><td>1.3016e10</td><td>2012</td><td>0.977069</td><td>1</td><td>-2.293148</td></tr><tr><td>&quot;Papua New Guin…</td><td>&quot;PNG&quot;</td><td>2013</td><td>2.1261e10</td><td>2.1296e10</td><td>2012</td><td>0.998379</td><td>1</td><td>-0.162138</td></tr><tr><td>&quot;Swaziland&quot;</td><td>&quot;SWZ&quot;</td><td>2013</td><td>4.5607e9</td><td>4.8238e9</td><td>2012</td><td>0.945454</td><td>1</td><td>-5.454556</td></tr><tr><td>&quot;Middle East &amp; …</td><td>&quot;TMN&quot;</td><td>2013</td><td>1.5791e12</td><td>1.6703e12</td><td>2012</td><td>0.945396</td><td>1</td><td>-5.460357</td></tr><tr><td>&quot;Tonga&quot;</td><td>&quot;TON&quot;</td><td>2013</td><td>4.5069e8</td><td>4.7236e8</td><td>2012</td><td>0.95412</td><td>1</td><td>-4.588021</td></tr><tr><td>&quot;Tuvalu&quot;</td><td>&quot;TUV&quot;</td><td>2013</td><td>3.8322e7</td><td>3.9876e7</td><td>2012</td><td>0.961044</td><td>1</td><td>-3.895578</td></tr><tr><td>&quot;Venezuela, RB&quot;</td><td>&quot;VEN&quot;</td><td>2013</td><td>3.7101e11</td><td>3.8129e11</td><td>2012</td><td>0.973039</td><td>1</td><td>-2.696121</td></tr><tr><td>&quot;Virgin Islands…</td><td>&quot;VIR&quot;</td><td>2013</td><td>3.7640e9</td><td>4.0950e9</td><td>2012</td><td>0.91917</td><td>1</td><td>-8.083028</td></tr><tr><td>&quot;South Africa&quot;</td><td>&quot;ZAF&quot;</td><td>2013</td><td>3.6681e11</td><td>3.9633e11</td><td>2012</td><td>0.925511</td><td>1</td><td>-7.448942</td></tr></tbody></table></div>"
      ],
      "text/plain": [
       "shape: (32, 9)\n",
       "┌───────────────┬──────────┬──────┬───────────┬───┬───────────┬──────────┬─────────┬───────────────┐\n",
       "│ cty_name      ┆ cty_code ┆ year ┆ gdp       ┆ … ┆ prev_year ┆ gdp_evol ┆ nb_year ┆ gdp_evol_perc │\n",
       "│ ---           ┆ ---      ┆ ---  ┆ ---       ┆   ┆ ---       ┆ ---      ┆ ---     ┆ ent           │\n",
       "│ str           ┆ str      ┆ i64  ┆ f64       ┆   ┆ i64       ┆ f64      ┆ i64     ┆ ---           │\n",
       "│               ┆          ┆      ┆           ┆   ┆           ┆          ┆         ┆ f64           │\n",
       "╞═══════════════╪══════════╪══════╪═══════════╪═══╪═══════════╪══════════╪═════════╪═══════════════╡\n",
       "│ Afghanistan   ┆ AFG      ┆ 2013 ┆ 2.0046e10 ┆ … ┆ 2012      ┆ 0.97613  ┆ 1       ┆ -2.387006     │\n",
       "│ American      ┆ ASM      ┆ 2013 ┆ 6.41e8    ┆ … ┆ 2012      ┆ 0.995342 ┆ 1       ┆ -0.465839     │\n",
       "│ Samoa         ┆          ┆      ┆           ┆   ┆           ┆          ┆         ┆               │\n",
       "│ Antigua and   ┆ ATG      ┆ 2013 ┆ 1.1929e9  ┆ … ┆ 2012      ┆ 0.98474  ┆ 1       ┆ -1.526013     │\n",
       "│ Barbuda       ┆          ┆      ┆           ┆   ┆           ┆          ┆         ┆               │\n",
       "│ Bahamas, The  ┆ BHS      ┆ 2013 ┆ 1.0677e10 ┆ … ┆ 2012      ┆ 0.995961 ┆ 1       ┆ -0.403899     │\n",
       "│ …             ┆ …        ┆ …    ┆ …         ┆ … ┆ …         ┆ …        ┆ …       ┆ …             │\n",
       "│ Tuvalu        ┆ TUV      ┆ 2013 ┆ 3.8322e7  ┆ … ┆ 2012      ┆ 0.961044 ┆ 1       ┆ -3.895578     │\n",
       "│ Venezuela, RB ┆ VEN      ┆ 2013 ┆ 3.7101e11 ┆ … ┆ 2012      ┆ 0.973039 ┆ 1       ┆ -2.696121     │\n",
       "│ Virgin        ┆ VIR      ┆ 2013 ┆ 3.7640e9  ┆ … ┆ 2012      ┆ 0.91917  ┆ 1       ┆ -8.083028     │\n",
       "│ Islands       ┆          ┆      ┆           ┆   ┆           ┆          ┆         ┆               │\n",
       "│ (U.S.)        ┆          ┆      ┆           ┆   ┆           ┆          ┆         ┆               │\n",
       "│ South Africa  ┆ ZAF      ┆ 2013 ┆ 3.6681e11 ┆ … ┆ 2012      ┆ 0.925511 ┆ 1       ┆ -7.448942     │\n",
       "└───────────────┴──────────┴──────┴───────────┴───┴───────────┴──────────┴─────────┴───────────────┘"
      ]
     },
     "execution_count": 17,
     "metadata": {},
     "output_type": "execute_result"
    }
   ],
   "source": [
    "recession_df = gdp_evol_df.filter(\n",
    "    (pl.col('gdp_evol_percent')<0) & (pl.col('year')==2013))\n",
    "\n",
    "print(recession_df.shape)\n",
    "\n",
    "recession_df"
   ]
  },
  {
   "cell_type": "code",
   "execution_count": null,
   "metadata": {},
   "outputs": [],
   "source": []
  }
 ],
 "metadata": {
  "kernelspec": {
   "display_name": "ph",
   "language": "python",
   "name": "python3"
  },
  "language_info": {
   "codemirror_mode": {
    "name": "ipython",
    "version": 3
   },
   "file_extension": ".py",
   "mimetype": "text/x-python",
   "name": "python",
   "nbconvert_exporter": "python",
   "pygments_lexer": "ipython3",
   "version": "3.11.2"
  }
 },
 "nbformat": 4,
 "nbformat_minor": 2
}
