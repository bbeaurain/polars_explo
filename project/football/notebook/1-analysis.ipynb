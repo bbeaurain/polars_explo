{
 "cells": [
  {
   "cell_type": "code",
   "execution_count": 24,
   "metadata": {},
   "outputs": [],
   "source": [
    "import os\n",
    "import polars as pl"
   ]
  },
  {
   "cell_type": "markdown",
   "metadata": {},
   "source": [
    "# Import Dataset"
   ]
  },
  {
   "cell_type": "code",
   "execution_count": 68,
   "metadata": {},
   "outputs": [],
   "source": [
    "local_path='dataset/soccer18-19.csv'\n",
    "auto='auto'"
   ]
  },
  {
   "cell_type": "code",
   "execution_count": 71,
   "metadata": {},
   "outputs": [
    {
     "name": "stdout",
     "output_type": "stream",
     "text": [
      "Current Directory /home/baptiste/GDrive/learning/Python/polars_explo/project/football/notebook\n",
      "\n",
      "Parent directory /home/baptiste/GDrive/learning/Python/polars_explo/project/football\n",
      "\n",
      "Dataset path /home/baptiste/GDrive/learning/Python/polars_explo/project/football/dataset/soccer18-19.csv\n",
      "\n",
      "Dump path /home/baptiste/GDrive/learning/Python/polars_explo/project/football/auto\n"
     ]
    }
   ],
   "source": [
    "# get current directory\n",
    "path = os.getcwd()\n",
    "print(\"Current Directory\", path)\n",
    "print()\n",
    " \n",
    "# parent directory\n",
    "parent = os.path.dirname(path)\n",
    "print(\"Parent directory\", parent)\n",
    "print()\n",
    "\n",
    "# dataset path\n",
    "dataset_path=os.path.join(parent,local_path)\n",
    "print(\"Dataset path\",dataset_path)\n",
    "print()\n",
    "\n",
    "# auto path\n",
    "path_auto=os.path.join(parent,auto)\n",
    "print(\"Dump path\",path_auto)"
   ]
  },
  {
   "cell_type": "code",
   "execution_count": 72,
   "metadata": {},
   "outputs": [
    {
     "name": "stdout",
     "output_type": "stream",
     "text": [
      "shape: (380, 23)\n"
     ]
    },
    {
     "data": {
      "text/html": [
       "<div><style>\n",
       ".dataframe > thead > tr > th,\n",
       ".dataframe > tbody > tr > td {\n",
       "  text-align: right;\n",
       "}\n",
       "</style>\n",
       "<small>shape: (5, 23)</small><table border=\"1\" class=\"dataframe\"><thead><tr><th>Div</th><th>Date</th><th>HomeTeam</th><th>AwayTeam</th><th>FTHG</th><th>FTAG</th><th>FTR</th><th>HTHG</th><th>HTAG</th><th>HTR</th><th>Referee</th><th>HS</th><th>AS</th><th>HST</th><th>AST</th><th>HF</th><th>AF</th><th>HC</th><th>AC</th><th>HY</th><th>AY</th><th>HR</th><th>AR</th></tr><tr><td>str</td><td>str</td><td>str</td><td>str</td><td>i64</td><td>i64</td><td>str</td><td>i64</td><td>i64</td><td>str</td><td>str</td><td>i64</td><td>i64</td><td>i64</td><td>i64</td><td>i64</td><td>i64</td><td>i64</td><td>i64</td><td>i64</td><td>i64</td><td>i64</td><td>i64</td></tr></thead><tbody><tr><td>&quot;E0&quot;</td><td>&quot;10/8/18&quot;</td><td>&quot;Man United&quot;</td><td>&quot;Leicester&quot;</td><td>2</td><td>1</td><td>&quot;H&quot;</td><td>1</td><td>0</td><td>&quot;H&quot;</td><td>&quot;A Marriner&quot;</td><td>8</td><td>13</td><td>6</td><td>4</td><td>11</td><td>8</td><td>2</td><td>5</td><td>2</td><td>1</td><td>0</td><td>0</td></tr><tr><td>&quot;E0&quot;</td><td>&quot;11/8/18&quot;</td><td>&quot;Bournemouth&quot;</td><td>&quot;Cardiff&quot;</td><td>2</td><td>0</td><td>&quot;H&quot;</td><td>1</td><td>0</td><td>&quot;H&quot;</td><td>&quot;K Friend&quot;</td><td>12</td><td>10</td><td>4</td><td>1</td><td>11</td><td>9</td><td>7</td><td>4</td><td>1</td><td>1</td><td>0</td><td>0</td></tr><tr><td>&quot;E0&quot;</td><td>&quot;11/8/18&quot;</td><td>&quot;Fulham&quot;</td><td>&quot;Crystal Palace…</td><td>0</td><td>2</td><td>&quot;A&quot;</td><td>0</td><td>1</td><td>&quot;A&quot;</td><td>&quot;M Dean&quot;</td><td>15</td><td>10</td><td>6</td><td>9</td><td>9</td><td>11</td><td>5</td><td>5</td><td>1</td><td>2</td><td>0</td><td>0</td></tr><tr><td>&quot;E0&quot;</td><td>&quot;11/8/18&quot;</td><td>&quot;Huddersfield&quot;</td><td>&quot;Chelsea&quot;</td><td>0</td><td>3</td><td>&quot;A&quot;</td><td>0</td><td>2</td><td>&quot;A&quot;</td><td>&quot;C Kavanagh&quot;</td><td>6</td><td>13</td><td>1</td><td>4</td><td>9</td><td>8</td><td>2</td><td>5</td><td>2</td><td>1</td><td>0</td><td>0</td></tr><tr><td>&quot;E0&quot;</td><td>&quot;11/8/18&quot;</td><td>&quot;Newcastle&quot;</td><td>&quot;Tottenham&quot;</td><td>1</td><td>2</td><td>&quot;A&quot;</td><td>1</td><td>2</td><td>&quot;A&quot;</td><td>&quot;M Atkinson&quot;</td><td>15</td><td>15</td><td>2</td><td>5</td><td>11</td><td>12</td><td>3</td><td>5</td><td>2</td><td>2</td><td>0</td><td>0</td></tr></tbody></table></div>"
      ],
      "text/plain": [
       "shape: (5, 23)\n",
       "┌─────┬─────────┬──────────────┬────────────────┬───┬─────┬─────┬─────┬─────┐\n",
       "│ Div ┆ Date    ┆ HomeTeam     ┆ AwayTeam       ┆ … ┆ HY  ┆ AY  ┆ HR  ┆ AR  │\n",
       "│ --- ┆ ---     ┆ ---          ┆ ---            ┆   ┆ --- ┆ --- ┆ --- ┆ --- │\n",
       "│ str ┆ str     ┆ str          ┆ str            ┆   ┆ i64 ┆ i64 ┆ i64 ┆ i64 │\n",
       "╞═════╪═════════╪══════════════╪════════════════╪═══╪═════╪═════╪═════╪═════╡\n",
       "│ E0  ┆ 10/8/18 ┆ Man United   ┆ Leicester      ┆ … ┆ 2   ┆ 1   ┆ 0   ┆ 0   │\n",
       "│ E0  ┆ 11/8/18 ┆ Bournemouth  ┆ Cardiff        ┆ … ┆ 1   ┆ 1   ┆ 0   ┆ 0   │\n",
       "│ E0  ┆ 11/8/18 ┆ Fulham       ┆ Crystal Palace ┆ … ┆ 1   ┆ 2   ┆ 0   ┆ 0   │\n",
       "│ E0  ┆ 11/8/18 ┆ Huddersfield ┆ Chelsea        ┆ … ┆ 2   ┆ 1   ┆ 0   ┆ 0   │\n",
       "│ E0  ┆ 11/8/18 ┆ Newcastle    ┆ Tottenham      ┆ … ┆ 2   ┆ 2   ┆ 0   ┆ 0   │\n",
       "└─────┴─────────┴──────────────┴────────────────┴───┴─────┴─────┴─────┴─────┘"
      ]
     },
     "execution_count": 72,
     "metadata": {},
     "output_type": "execute_result"
    }
   ],
   "source": [
    "df=polars.read_csv(dataset_path)\n",
    "\n",
    "print(\"shape:\", df.shape)\n",
    "\n",
    "df.head(5)"
   ]
  },
  {
   "cell_type": "markdown",
   "metadata": {},
   "source": [
    "# Challenges"
   ]
  },
  {
   "cell_type": "markdown",
   "metadata": {},
   "source": [
    " ## Maximum number of fouls in one game"
   ]
  },
  {
   "cell_type": "code",
   "execution_count": 73,
   "metadata": {},
   "outputs": [
    {
     "name": "stdout",
     "output_type": "stream",
     "text": [
      "Maximum Fouls in one game: 23\n"
     ]
    }
   ],
   "source": [
    "#max_foul=df.select(pl.max(\"HF\",\"AF\")).select(pl.max(\"max\"))[0]\n",
    "\n",
    "max_foul=max(df['HF'].max(),df['AF'].max())\n",
    "\n",
    "print('Maximum Fouls in one game:',max_foul)"
   ]
  },
  {
   "cell_type": "markdown",
   "metadata": {},
   "source": [
    "## Game in which maximum number of fouls happened"
   ]
  },
  {
   "cell_type": "code",
   "execution_count": 74,
   "metadata": {},
   "outputs": [
    {
     "data": {
      "text/html": [
       "<div><style>\n",
       ".dataframe > thead > tr > th,\n",
       ".dataframe > tbody > tr > td {\n",
       "  text-align: right;\n",
       "}\n",
       "</style>\n",
       "<small>shape: (1, 23)</small><table border=\"1\" class=\"dataframe\"><thead><tr><th>Div</th><th>Date</th><th>HomeTeam</th><th>AwayTeam</th><th>FTHG</th><th>FTAG</th><th>FTR</th><th>HTHG</th><th>HTAG</th><th>HTR</th><th>Referee</th><th>HS</th><th>AS</th><th>HST</th><th>AST</th><th>HF</th><th>AF</th><th>HC</th><th>AC</th><th>HY</th><th>AY</th><th>HR</th><th>AR</th></tr><tr><td>str</td><td>str</td><td>str</td><td>str</td><td>i64</td><td>i64</td><td>str</td><td>i64</td><td>i64</td><td>str</td><td>str</td><td>i64</td><td>i64</td><td>i64</td><td>i64</td><td>i64</td><td>i64</td><td>i64</td><td>i64</td><td>i64</td><td>i64</td><td>i64</td><td>i64</td></tr></thead><tbody><tr><td>&quot;E0&quot;</td><td>&quot;20/10/2018&quot;</td><td>&quot;Wolves&quot;</td><td>&quot;Watford&quot;</td><td>0</td><td>2</td><td>&quot;A&quot;</td><td>0</td><td>2</td><td>&quot;A&quot;</td><td>&quot;L Mason&quot;</td><td>10</td><td>9</td><td>1</td><td>3</td><td>23</td><td>13</td><td>8</td><td>2</td><td>3</td><td>1</td><td>0</td><td>0</td></tr></tbody></table></div>"
      ],
      "text/plain": [
       "shape: (1, 23)\n",
       "┌─────┬────────────┬──────────┬──────────┬───┬─────┬─────┬─────┬─────┐\n",
       "│ Div ┆ Date       ┆ HomeTeam ┆ AwayTeam ┆ … ┆ HY  ┆ AY  ┆ HR  ┆ AR  │\n",
       "│ --- ┆ ---        ┆ ---      ┆ ---      ┆   ┆ --- ┆ --- ┆ --- ┆ --- │\n",
       "│ str ┆ str        ┆ str      ┆ str      ┆   ┆ i64 ┆ i64 ┆ i64 ┆ i64 │\n",
       "╞═════╪════════════╪══════════╪══════════╪═══╪═════╪═════╪═════╪═════╡\n",
       "│ E0  ┆ 20/10/2018 ┆ Wolves   ┆ Watford  ┆ … ┆ 3   ┆ 1   ┆ 0   ┆ 0   │\n",
       "└─────┴────────────┴──────────┴──────────┴───┴─────┴─────┴─────┴─────┘"
      ]
     },
     "execution_count": 74,
     "metadata": {},
     "output_type": "execute_result"
    }
   ],
   "source": [
    "df.filter((df['HF'] == max_foul)|(df['AF'] == max_foul))"
   ]
  },
  {
   "cell_type": "markdown",
   "metadata": {},
   "source": [
    "## Team committing the highest number of fools in average"
   ]
  },
  {
   "cell_type": "markdown",
   "metadata": {},
   "source": [
    "### Shape the data games per team"
   ]
  },
  {
   "cell_type": "code",
   "execution_count": 106,
   "metadata": {},
   "outputs": [
    {
     "name": "stdout",
     "output_type": "stream",
     "text": [
      "Shape: (760, 11)\n"
     ]
    },
    {
     "data": {
      "text/html": [
       "<div><style>\n",
       ".dataframe > thead > tr > th,\n",
       ".dataframe > tbody > tr > td {\n",
       "  text-align: right;\n",
       "}\n",
       "</style>\n",
       "<small>shape: (8, 11)</small><table border=\"1\" class=\"dataframe\"><thead><tr><th>Div</th><th>Team</th><th>FTG</th><th>HTG</th><th>S</th><th>ST</th><th>F</th><th>C</th><th>Y</th><th>R</th><th>Score</th></tr><tr><td>str</td><td>str</td><td>i64</td><td>i64</td><td>i64</td><td>i64</td><td>i64</td><td>i64</td><td>i64</td><td>i64</td><td>str</td></tr></thead><tbody><tr><td>&quot;E0&quot;</td><td>&quot;Man United&quot;</td><td>2</td><td>1</td><td>8</td><td>6</td><td>11</td><td>2</td><td>2</td><td>0</td><td>&quot;WIN&quot;</td></tr><tr><td>&quot;E0&quot;</td><td>&quot;Bournemouth&quot;</td><td>2</td><td>1</td><td>12</td><td>4</td><td>11</td><td>7</td><td>1</td><td>0</td><td>&quot;WIN&quot;</td></tr><tr><td>&quot;E0&quot;</td><td>&quot;Fulham&quot;</td><td>0</td><td>0</td><td>15</td><td>6</td><td>9</td><td>5</td><td>1</td><td>0</td><td>&quot;LOOSE&quot;</td></tr><tr><td>&quot;E0&quot;</td><td>&quot;Huddersfield&quot;</td><td>0</td><td>0</td><td>6</td><td>1</td><td>9</td><td>2</td><td>2</td><td>0</td><td>&quot;LOOSE&quot;</td></tr><tr><td>&quot;E0&quot;</td><td>&quot;Newcastle&quot;</td><td>1</td><td>1</td><td>15</td><td>2</td><td>11</td><td>3</td><td>2</td><td>0</td><td>&quot;LOOSE&quot;</td></tr><tr><td>&quot;E0&quot;</td><td>&quot;Watford&quot;</td><td>2</td><td>1</td><td>19</td><td>5</td><td>10</td><td>8</td><td>2</td><td>0</td><td>&quot;WIN&quot;</td></tr><tr><td>&quot;E0&quot;</td><td>&quot;Wolves&quot;</td><td>2</td><td>1</td><td>11</td><td>4</td><td>8</td><td>3</td><td>0</td><td>0</td><td>&quot;DRAW&quot;</td></tr><tr><td>&quot;E0&quot;</td><td>&quot;Arsenal&quot;</td><td>0</td><td>0</td><td>9</td><td>3</td><td>11</td><td>2</td><td>2</td><td>0</td><td>&quot;LOOSE&quot;</td></tr></tbody></table></div>"
      ],
      "text/plain": [
       "shape: (8, 11)\n",
       "┌─────┬──────────────┬─────┬─────┬───┬─────┬─────┬─────┬───────┐\n",
       "│ Div ┆ Team         ┆ FTG ┆ HTG ┆ … ┆ C   ┆ Y   ┆ R   ┆ Score │\n",
       "│ --- ┆ ---          ┆ --- ┆ --- ┆   ┆ --- ┆ --- ┆ --- ┆ ---   │\n",
       "│ str ┆ str          ┆ i64 ┆ i64 ┆   ┆ i64 ┆ i64 ┆ i64 ┆ str   │\n",
       "╞═════╪══════════════╪═════╪═════╪═══╪═════╪═════╪═════╪═══════╡\n",
       "│ E0  ┆ Man United   ┆ 2   ┆ 1   ┆ … ┆ 2   ┆ 2   ┆ 0   ┆ WIN   │\n",
       "│ E0  ┆ Bournemouth  ┆ 2   ┆ 1   ┆ … ┆ 7   ┆ 1   ┆ 0   ┆ WIN   │\n",
       "│ E0  ┆ Fulham       ┆ 0   ┆ 0   ┆ … ┆ 5   ┆ 1   ┆ 0   ┆ LOOSE │\n",
       "│ E0  ┆ Huddersfield ┆ 0   ┆ 0   ┆ … ┆ 2   ┆ 2   ┆ 0   ┆ LOOSE │\n",
       "│ E0  ┆ Newcastle    ┆ 1   ┆ 1   ┆ … ┆ 3   ┆ 2   ┆ 0   ┆ LOOSE │\n",
       "│ E0  ┆ Watford      ┆ 2   ┆ 1   ┆ … ┆ 8   ┆ 2   ┆ 0   ┆ WIN   │\n",
       "│ E0  ┆ Wolves       ┆ 2   ┆ 1   ┆ … ┆ 3   ┆ 0   ┆ 0   ┆ DRAW  │\n",
       "│ E0  ┆ Arsenal      ┆ 0   ┆ 0   ┆ … ┆ 2   ┆ 2   ┆ 0   ┆ LOOSE │\n",
       "└─────┴──────────────┴─────┴─────┴───┴─────┴─────┴─────┴───────┘"
      ]
     },
     "execution_count": 106,
     "metadata": {},
     "output_type": "execute_result"
    }
   ],
   "source": [
    "\n",
    "# Home team reshape\n",
    "col_home=['Div','HomeTeam','FTHG','HTHG','HS','HST','HF','HC','HY','HR','Score']\n",
    "rename_col_home={\n",
    "    'Div':'Div',\n",
    "    'HomeTeam':'Team',\n",
    "    'FTHG':'FTG',\n",
    "    'HTHG':'HTG',\n",
    "    'HS':'S',\n",
    "    'HST':'ST',\n",
    "    'HF':'F',\n",
    "    'HC':'C',\n",
    "    'HY':'Y',\n",
    "    'HR':'R'}\n",
    "\n",
    "df_home=df.with_columns(\n",
    "    pl.when(pl.col('FTR')=='H').then('WIN')\n",
    "    .otherwise((pl.when(pl.col('FTR')=='A').then('LOOSE')).otherwise('DRAW'))\n",
    "    .alias('Score')\n",
    "    ).select(col_home).rename(rename_col_home) \n",
    "\n",
    "# Away Team reshape\n",
    "col_away=['Div','AwayTeam','FTAG','HTAG','AS','AST','AF','AC','AY','AR','Score']\n",
    "rename_col_away={\n",
    "    'Div':'Div',\n",
    "    'AwayTeam':'Team',\n",
    "    'FTAG':'FTG',\n",
    "    'HTAG':'HTG',\n",
    "    'AS':'S',\n",
    "    'AST':'ST',\n",
    "    'AF':'F',\n",
    "    'AC':'C',\n",
    "    'AY':'Y',\n",
    "    'AR':'R'}\n",
    "\n",
    "df_away=df.with_columns(\n",
    "    pl.when(pl.col('FTR')=='H').then('LOOSE')\n",
    "    .otherwise((pl.when(pl.col('FTR')=='A').then('LOOSE')).otherwise('DRAW'))\n",
    "    .alias('Score')\n",
    "    ).select(col_away).rename(rename_col_away) \n",
    "\n",
    "# Aggregate\n",
    "df2=pl.concat([df_home,df_away])\n",
    "\n",
    "\n",
    "df2.write_csv(os.path.join(path_auto,'df2.csv'))\n",
    "\n",
    "print ('Shape:',df2.shape)\n",
    "df2.head(8)"
   ]
  },
  {
   "cell_type": "markdown",
   "metadata": {},
   "source": [
    "### Group per team, concentrate on fouls"
   ]
  },
  {
   "cell_type": "code",
   "execution_count": 107,
   "metadata": {},
   "outputs": [
    {
     "data": {
      "text/html": [
       "<div><style>\n",
       ".dataframe > thead > tr > th,\n",
       ".dataframe > tbody > tr > td {\n",
       "  text-align: right;\n",
       "}\n",
       "</style>\n",
       "<small>shape: (20, 5)</small><table border=\"1\" class=\"dataframe\"><thead><tr><th>Team</th><th>F_mean</th><th>F_min</th><th>F_max</th><th>F_std</th></tr><tr><td>str</td><td>f64</td><td>i64</td><td>i64</td><td>f64</td></tr></thead><tbody><tr><td>&quot;Liverpool&quot;</td><td>8.289474</td><td>3</td><td>17</td><td>3.819636</td></tr><tr><td>&quot;Man City&quot;</td><td>8.631579</td><td>2</td><td>14</td><td>3.10554</td></tr><tr><td>&quot;West Ham&quot;</td><td>8.710526</td><td>2</td><td>14</td><td>2.577532</td></tr><tr><td>&quot;Chelsea&quot;</td><td>8.921053</td><td>5</td><td>15</td><td>2.529625</td></tr><tr><td>&quot;Bournemouth&quot;</td><td>8.921053</td><td>3</td><td>14</td><td>2.644541</td></tr><tr><td>&quot;Leicester&quot;</td><td>9.236842</td><td>4</td><td>17</td><td>3.088201</td></tr><tr><td>&quot;Burnley&quot;</td><td>9.447368</td><td>4</td><td>17</td><td>3.099236</td></tr><tr><td>&quot;Tottenham&quot;</td><td>9.868421</td><td>3</td><td>19</td><td>3.78597</td></tr><tr><td>&quot;Cardiff&quot;</td><td>10.105263</td><td>3</td><td>17</td><td>3.615204</td></tr><tr><td>&quot;Crystal Palace…</td><td>10.157895</td><td>5</td><td>17</td><td>2.765876</td></tr><tr><td>&quot;Wolves&quot;</td><td>10.763158</td><td>0</td><td>23</td><td>4.346071</td></tr><tr><td>&quot;Arsenal&quot;</td><td>10.842105</td><td>3</td><td>17</td><td>3.166773</td></tr><tr><td>&quot;Southampton&quot;</td><td>11.052632</td><td>5</td><td>20</td><td>2.921934</td></tr><tr><td>&quot;Huddersfield&quot;</td><td>11.052632</td><td>4</td><td>20</td><td>3.683032</td></tr><tr><td>&quot;Newcastle&quot;</td><td>11.105263</td><td>5</td><td>18</td><td>2.729117</td></tr><tr><td>&quot;Fulham&quot;</td><td>11.131579</td><td>4</td><td>18</td><td>3.330214</td></tr><tr><td>&quot;Everton&quot;</td><td>11.368421</td><td>5</td><td>19</td><td>2.972132</td></tr><tr><td>&quot;Man United&quot;</td><td>11.394737</td><td>5</td><td>18</td><td>2.8431</td></tr><tr><td>&quot;Watford&quot;</td><td>11.394737</td><td>4</td><td>21</td><td>3.552992</td></tr><tr><td>&quot;Brighton&quot;</td><td>12.184211</td><td>4</td><td>21</td><td>3.675009</td></tr></tbody></table></div>"
      ],
      "text/plain": [
       "shape: (20, 5)\n",
       "┌────────────┬───────────┬───────┬───────┬──────────┐\n",
       "│ Team       ┆ F_mean    ┆ F_min ┆ F_max ┆ F_std    │\n",
       "│ ---        ┆ ---       ┆ ---   ┆ ---   ┆ ---      │\n",
       "│ str        ┆ f64       ┆ i64   ┆ i64   ┆ f64      │\n",
       "╞════════════╪═══════════╪═══════╪═══════╪══════════╡\n",
       "│ Liverpool  ┆ 8.289474  ┆ 3     ┆ 17    ┆ 3.819636 │\n",
       "│ Man City   ┆ 8.631579  ┆ 2     ┆ 14    ┆ 3.10554  │\n",
       "│ West Ham   ┆ 8.710526  ┆ 2     ┆ 14    ┆ 2.577532 │\n",
       "│ Chelsea    ┆ 8.921053  ┆ 5     ┆ 15    ┆ 2.529625 │\n",
       "│ …          ┆ …         ┆ …     ┆ …     ┆ …        │\n",
       "│ Everton    ┆ 11.368421 ┆ 5     ┆ 19    ┆ 2.972132 │\n",
       "│ Man United ┆ 11.394737 ┆ 5     ┆ 18    ┆ 2.8431   │\n",
       "│ Watford    ┆ 11.394737 ┆ 4     ┆ 21    ┆ 3.552992 │\n",
       "│ Brighton   ┆ 12.184211 ┆ 4     ┆ 21    ┆ 3.675009 │\n",
       "└────────────┴───────────┴───────┴───────┴──────────┘"
      ]
     },
     "execution_count": 107,
     "metadata": {},
     "output_type": "execute_result"
    }
   ],
   "source": [
    "df3=df2.groupby('Team').agg(\n",
    "    pl.col('F').mean().alias('F_mean'),\n",
    "    pl.col('F').min().alias('F_min'),\n",
    "    pl.col('F').max().alias('F_max'),\n",
    "    pl.col('F').std().alias('F_std')\n",
    ").sort('F_mean')\n",
    "\n",
    "df3.write_csv(os.path.join(path_auto,'df3.csv'))\n",
    "\n",
    "df3.head(30)"
   ]
  },
  {
   "cell_type": "markdown",
   "metadata": {},
   "source": [
    "## Percentage of Home win vs Away Win vs Draw"
   ]
  },
  {
   "cell_type": "code",
   "execution_count": 113,
   "metadata": {},
   "outputs": [
    {
     "data": {
      "text/html": [
       "<div><style>\n",
       ".dataframe > thead > tr > th,\n",
       ".dataframe > tbody > tr > td {\n",
       "  text-align: right;\n",
       "}\n",
       "</style>\n",
       "<small>shape: (3, 2)</small><table border=\"1\" class=\"dataframe\"><thead><tr><th>FTR</th><th>Number</th></tr><tr><td>str</td><td>u32</td></tr></thead><tbody><tr><td>&quot;A&quot;</td><td>128</td></tr><tr><td>&quot;H&quot;</td><td>181</td></tr><tr><td>&quot;D&quot;</td><td>71</td></tr></tbody></table></div>"
      ],
      "text/plain": [
       "shape: (3, 2)\n",
       "┌─────┬────────┐\n",
       "│ FTR ┆ Number │\n",
       "│ --- ┆ ---    │\n",
       "│ str ┆ u32    │\n",
       "╞═════╪════════╡\n",
       "│ A   ┆ 128    │\n",
       "│ H   ┆ 181    │\n",
       "│ D   ┆ 71     │\n",
       "└─────┴────────┘"
      ]
     },
     "execution_count": 113,
     "metadata": {},
     "output_type": "execute_result"
    }
   ],
   "source": [
    "df4=df.groupby('FTR').agg(\n",
    "    pl.col('Div').count().alias('Number')\n",
    ")\n",
    "\n",
    "df4.write_csv(os.path.join(path_auto,'df4.csv'))\n",
    "\n",
    "\n",
    "df4"
   ]
  },
  {
   "cell_type": "markdown",
   "metadata": {},
   "source": [
    "# Impact of Red cards on the win probablity"
   ]
  },
  {
   "cell_type": "code",
   "execution_count": 143,
   "metadata": {},
   "outputs": [
    {
     "data": {
      "text/plain": [
       "<bound method DataFrame.head of shape: (3, 8)\n",
       "┌─────┬────────────┬───────────┬────────────┬─────────────┬────────────┬─────────────┬────────────┐\n",
       "│ R   ┆ NumberGame ┆ NumberWin ┆ NumberDraw ┆ NumberLoose ┆ PercentWin ┆ PercentDraw ┆ PercentLoo │\n",
       "│ --- ┆ ---        ┆ ---       ┆ ---        ┆ ---         ┆ ---        ┆ ---         ┆ se         │\n",
       "│ i64 ┆ u32        ┆ i32       ┆ i32        ┆ i32         ┆ f64        ┆ f64         ┆ ---        │\n",
       "│     ┆            ┆           ┆            ┆             ┆            ┆             ┆ f64        │\n",
       "╞═════╪════════════╪═══════════╪════════════╪═════════════╪════════════╪═════════════╪════════════╡\n",
       "│ 0   ┆ 714        ┆ 177       ┆ 404        ┆ 133         ┆ 0.247899   ┆ 0.565826    ┆ 0.186275   │\n",
       "│ 1   ┆ 45         ┆ 4         ┆ 32         ┆ 9           ┆ 0.088889   ┆ 0.711111    ┆ 0.2        │\n",
       "│ 2   ┆ 1          ┆ 0         ┆ 1          ┆ 0           ┆ 0.0        ┆ 1.0         ┆ 0.0        │\n",
       "└─────┴────────────┴───────────┴────────────┴─────────────┴────────────┴─────────────┴────────────┘>"
      ]
     },
     "execution_count": 143,
     "metadata": {},
     "output_type": "execute_result"
    }
   ],
   "source": [
    "df5 = df2.with_columns(\n",
    "    pl.when(pl.col('Score')=='WIN').then(1) .otherwise(0).alias('Win'),\n",
    "    pl.when(pl.col('Score')=='LOOSE').then(1) .otherwise(0).alias('Loose'),\n",
    "    pl.when(pl.col('Score')=='DRAW').then(1) .otherwise(0).alias('Draw'),\n",
    ")\n",
    "\n",
    "df6=df5.groupby('R').agg(\n",
    "    pl.col('Div').count().alias('NumberGame'),\n",
    "    pl.col('Win').sum().alias('NumberWin'),\n",
    "    pl.col('Loose').sum().alias('NumberDraw'),\n",
    "    pl.col('Draw').sum().alias('NumberLoose'),\n",
    "    (pl.col('Win').sum()/pl.col('Div').count()).alias('PercentWin'),\n",
    "    (pl.col('Loose').sum()/pl.col('Div').count()).alias('PercentDraw'),\n",
    "    (pl.col('Draw').sum()/pl.col('Div').count()).alias('PercentLoose')\n",
    ")\n",
    "\n",
    "df6.head"
   ]
  },
  {
   "cell_type": "code",
   "execution_count": null,
   "metadata": {},
   "outputs": [],
   "source": []
  }
 ],
 "metadata": {
  "kernelspec": {
   "display_name": "ph",
   "language": "python",
   "name": "python3"
  },
  "language_info": {
   "codemirror_mode": {
    "name": "ipython",
    "version": 3
   },
   "file_extension": ".py",
   "mimetype": "text/x-python",
   "name": "python",
   "nbconvert_exporter": "python",
   "pygments_lexer": "ipython3",
   "version": "3.8.12"
  }
 },
 "nbformat": 4,
 "nbformat_minor": 2
}
