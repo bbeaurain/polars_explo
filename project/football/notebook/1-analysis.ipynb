{
 "cells": [
  {
   "cell_type": "code",
   "execution_count": 7,
   "metadata": {},
   "outputs": [],
   "source": [
    "import os\n",
    "import polars as pl"
   ]
  },
  {
   "cell_type": "markdown",
   "metadata": {},
   "source": [
    "# Import Dataset"
   ]
  },
  {
   "cell_type": "code",
   "execution_count": 8,
   "metadata": {},
   "outputs": [],
   "source": [
    "local_path='dataset/soccer18-19.csv'\n",
    "auto='auto'"
   ]
  },
  {
   "cell_type": "code",
   "execution_count": 9,
   "metadata": {},
   "outputs": [
    {
     "name": "stdout",
     "output_type": "stream",
     "text": [
      "Current Directory /Users/baptistebeaurain/Google Drive/learning/Python/polars_explo/project/football/notebook\n",
      "\n",
      "Parent directory /Users/baptistebeaurain/Google Drive/learning/Python/polars_explo/project/football\n",
      "\n",
      "Dataset path /Users/baptistebeaurain/Google Drive/learning/Python/polars_explo/project/football/dataset/soccer18-19.csv\n",
      "\n",
      "Dump path /Users/baptistebeaurain/Google Drive/learning/Python/polars_explo/project/football/auto\n"
     ]
    }
   ],
   "source": [
    "# get current directory\n",
    "path = os.getcwd()\n",
    "print(\"Current Directory\", path)\n",
    "print()\n",
    " \n",
    "# parent directory\n",
    "parent = os.path.dirname(path)\n",
    "print(\"Parent directory\", parent)\n",
    "print()\n",
    "\n",
    "# dataset path\n",
    "dataset_path=os.path.join(parent,local_path)\n",
    "print(\"Dataset path\",dataset_path)\n",
    "print()\n",
    "\n",
    "# auto path\n",
    "path_auto=os.path.join(parent,auto)\n",
    "print(\"Dump path\",path_auto)"
   ]
  },
  {
   "cell_type": "code",
   "execution_count": 10,
   "metadata": {},
   "outputs": [
    {
     "name": "stdout",
     "output_type": "stream",
     "text": [
      "shape: (380, 23)\n"
     ]
    },
    {
     "data": {
      "text/html": [
       "<div><style>\n",
       ".dataframe > thead > tr,\n",
       ".dataframe > tbody > tr {\n",
       "  text-align: right;\n",
       "  white-space: pre-wrap;\n",
       "}\n",
       "</style>\n",
       "<small>shape: (5, 23)</small><table border=\"1\" class=\"dataframe\"><thead><tr><th>Div</th><th>Date</th><th>HomeTeam</th><th>AwayTeam</th><th>FTHG</th><th>FTAG</th><th>FTR</th><th>HTHG</th><th>HTAG</th><th>HTR</th><th>Referee</th><th>HS</th><th>AS</th><th>HST</th><th>AST</th><th>HF</th><th>AF</th><th>HC</th><th>AC</th><th>HY</th><th>AY</th><th>HR</th><th>AR</th></tr><tr><td>str</td><td>str</td><td>str</td><td>str</td><td>i64</td><td>i64</td><td>str</td><td>i64</td><td>i64</td><td>str</td><td>str</td><td>i64</td><td>i64</td><td>i64</td><td>i64</td><td>i64</td><td>i64</td><td>i64</td><td>i64</td><td>i64</td><td>i64</td><td>i64</td><td>i64</td></tr></thead><tbody><tr><td>&quot;E0&quot;</td><td>&quot;10/8/18&quot;</td><td>&quot;Man United&quot;</td><td>&quot;Leicester&quot;</td><td>2</td><td>1</td><td>&quot;H&quot;</td><td>1</td><td>0</td><td>&quot;H&quot;</td><td>&quot;A Marriner&quot;</td><td>8</td><td>13</td><td>6</td><td>4</td><td>11</td><td>8</td><td>2</td><td>5</td><td>2</td><td>1</td><td>0</td><td>0</td></tr><tr><td>&quot;E0&quot;</td><td>&quot;11/8/18&quot;</td><td>&quot;Bournemouth&quot;</td><td>&quot;Cardiff&quot;</td><td>2</td><td>0</td><td>&quot;H&quot;</td><td>1</td><td>0</td><td>&quot;H&quot;</td><td>&quot;K Friend&quot;</td><td>12</td><td>10</td><td>4</td><td>1</td><td>11</td><td>9</td><td>7</td><td>4</td><td>1</td><td>1</td><td>0</td><td>0</td></tr><tr><td>&quot;E0&quot;</td><td>&quot;11/8/18&quot;</td><td>&quot;Fulham&quot;</td><td>&quot;Crystal Palace…</td><td>0</td><td>2</td><td>&quot;A&quot;</td><td>0</td><td>1</td><td>&quot;A&quot;</td><td>&quot;M Dean&quot;</td><td>15</td><td>10</td><td>6</td><td>9</td><td>9</td><td>11</td><td>5</td><td>5</td><td>1</td><td>2</td><td>0</td><td>0</td></tr><tr><td>&quot;E0&quot;</td><td>&quot;11/8/18&quot;</td><td>&quot;Huddersfield&quot;</td><td>&quot;Chelsea&quot;</td><td>0</td><td>3</td><td>&quot;A&quot;</td><td>0</td><td>2</td><td>&quot;A&quot;</td><td>&quot;C Kavanagh&quot;</td><td>6</td><td>13</td><td>1</td><td>4</td><td>9</td><td>8</td><td>2</td><td>5</td><td>2</td><td>1</td><td>0</td><td>0</td></tr><tr><td>&quot;E0&quot;</td><td>&quot;11/8/18&quot;</td><td>&quot;Newcastle&quot;</td><td>&quot;Tottenham&quot;</td><td>1</td><td>2</td><td>&quot;A&quot;</td><td>1</td><td>2</td><td>&quot;A&quot;</td><td>&quot;M Atkinson&quot;</td><td>15</td><td>15</td><td>2</td><td>5</td><td>11</td><td>12</td><td>3</td><td>5</td><td>2</td><td>2</td><td>0</td><td>0</td></tr></tbody></table></div>"
      ],
      "text/plain": [
       "shape: (5, 23)\n",
       "┌─────┬─────────┬──────────────┬────────────────┬───┬─────┬─────┬─────┬─────┐\n",
       "│ Div ┆ Date    ┆ HomeTeam     ┆ AwayTeam       ┆ … ┆ HY  ┆ AY  ┆ HR  ┆ AR  │\n",
       "│ --- ┆ ---     ┆ ---          ┆ ---            ┆   ┆ --- ┆ --- ┆ --- ┆ --- │\n",
       "│ str ┆ str     ┆ str          ┆ str            ┆   ┆ i64 ┆ i64 ┆ i64 ┆ i64 │\n",
       "╞═════╪═════════╪══════════════╪════════════════╪═══╪═════╪═════╪═════╪═════╡\n",
       "│ E0  ┆ 10/8/18 ┆ Man United   ┆ Leicester      ┆ … ┆ 2   ┆ 1   ┆ 0   ┆ 0   │\n",
       "│ E0  ┆ 11/8/18 ┆ Bournemouth  ┆ Cardiff        ┆ … ┆ 1   ┆ 1   ┆ 0   ┆ 0   │\n",
       "│ E0  ┆ 11/8/18 ┆ Fulham       ┆ Crystal Palace ┆ … ┆ 1   ┆ 2   ┆ 0   ┆ 0   │\n",
       "│ E0  ┆ 11/8/18 ┆ Huddersfield ┆ Chelsea        ┆ … ┆ 2   ┆ 1   ┆ 0   ┆ 0   │\n",
       "│ E0  ┆ 11/8/18 ┆ Newcastle    ┆ Tottenham      ┆ … ┆ 2   ┆ 2   ┆ 0   ┆ 0   │\n",
       "└─────┴─────────┴──────────────┴────────────────┴───┴─────┴─────┴─────┴─────┘"
      ]
     },
     "execution_count": 10,
     "metadata": {},
     "output_type": "execute_result"
    }
   ],
   "source": [
    "df=pl.read_csv(dataset_path)\n",
    "\n",
    "print(\"shape:\", df.shape)\n",
    "\n",
    "df.head(5)"
   ]
  },
  {
   "cell_type": "markdown",
   "metadata": {},
   "source": [
    "# Challenges"
   ]
  },
  {
   "cell_type": "markdown",
   "metadata": {},
   "source": [
    " ## Maximum number of fouls in one game"
   ]
  },
  {
   "cell_type": "code",
   "execution_count": 11,
   "metadata": {},
   "outputs": [
    {
     "name": "stdout",
     "output_type": "stream",
     "text": [
      "Maximum Fouls in one game: 23\n"
     ]
    }
   ],
   "source": [
    "#max_foul=df.select(pl.max(\"HF\",\"AF\")).select(pl.max(\"max\"))[0]\n",
    "\n",
    "max_foul=max(df['HF'].max(),df['AF'].max())\n",
    "\n",
    "print('Maximum Fouls in one game:',max_foul)"
   ]
  },
  {
   "cell_type": "markdown",
   "metadata": {},
   "source": [
    "## Game in which maximum number of fouls happened"
   ]
  },
  {
   "cell_type": "code",
   "execution_count": 12,
   "metadata": {},
   "outputs": [
    {
     "data": {
      "text/html": [
       "<div><style>\n",
       ".dataframe > thead > tr,\n",
       ".dataframe > tbody > tr {\n",
       "  text-align: right;\n",
       "  white-space: pre-wrap;\n",
       "}\n",
       "</style>\n",
       "<small>shape: (1, 23)</small><table border=\"1\" class=\"dataframe\"><thead><tr><th>Div</th><th>Date</th><th>HomeTeam</th><th>AwayTeam</th><th>FTHG</th><th>FTAG</th><th>FTR</th><th>HTHG</th><th>HTAG</th><th>HTR</th><th>Referee</th><th>HS</th><th>AS</th><th>HST</th><th>AST</th><th>HF</th><th>AF</th><th>HC</th><th>AC</th><th>HY</th><th>AY</th><th>HR</th><th>AR</th></tr><tr><td>str</td><td>str</td><td>str</td><td>str</td><td>i64</td><td>i64</td><td>str</td><td>i64</td><td>i64</td><td>str</td><td>str</td><td>i64</td><td>i64</td><td>i64</td><td>i64</td><td>i64</td><td>i64</td><td>i64</td><td>i64</td><td>i64</td><td>i64</td><td>i64</td><td>i64</td></tr></thead><tbody><tr><td>&quot;E0&quot;</td><td>&quot;20/10/2018&quot;</td><td>&quot;Wolves&quot;</td><td>&quot;Watford&quot;</td><td>0</td><td>2</td><td>&quot;A&quot;</td><td>0</td><td>2</td><td>&quot;A&quot;</td><td>&quot;L Mason&quot;</td><td>10</td><td>9</td><td>1</td><td>3</td><td>23</td><td>13</td><td>8</td><td>2</td><td>3</td><td>1</td><td>0</td><td>0</td></tr></tbody></table></div>"
      ],
      "text/plain": [
       "shape: (1, 23)\n",
       "┌─────┬────────────┬──────────┬──────────┬───┬─────┬─────┬─────┬─────┐\n",
       "│ Div ┆ Date       ┆ HomeTeam ┆ AwayTeam ┆ … ┆ HY  ┆ AY  ┆ HR  ┆ AR  │\n",
       "│ --- ┆ ---        ┆ ---      ┆ ---      ┆   ┆ --- ┆ --- ┆ --- ┆ --- │\n",
       "│ str ┆ str        ┆ str      ┆ str      ┆   ┆ i64 ┆ i64 ┆ i64 ┆ i64 │\n",
       "╞═════╪════════════╪══════════╪══════════╪═══╪═════╪═════╪═════╪═════╡\n",
       "│ E0  ┆ 20/10/2018 ┆ Wolves   ┆ Watford  ┆ … ┆ 3   ┆ 1   ┆ 0   ┆ 0   │\n",
       "└─────┴────────────┴──────────┴──────────┴───┴─────┴─────┴─────┴─────┘"
      ]
     },
     "execution_count": 12,
     "metadata": {},
     "output_type": "execute_result"
    }
   ],
   "source": [
    "df.filter((df['HF'] == max_foul)|(df['AF'] == max_foul))"
   ]
  },
  {
   "cell_type": "markdown",
   "metadata": {},
   "source": [
    "## Team committing the highest number of fools in average"
   ]
  },
  {
   "cell_type": "markdown",
   "metadata": {},
   "source": [
    "### Shape the data games per team"
   ]
  },
  {
   "cell_type": "code",
   "execution_count": 13,
   "metadata": {},
   "outputs": [
    {
     "name": "stdout",
     "output_type": "stream",
     "text": [
      "Shape: (760, 24)\n"
     ]
    },
    {
     "name": "stderr",
     "output_type": "stream",
     "text": [
      "/var/folders/07/v1ngwnc136b1lhw5lqnq_fjw0000gn/T/ipykernel_14384/1868965930.py:26: DeprecationWarning: in a future version, string input will be parsed as a column name rather than a string literal. To silence this warning, pass the input as an expression instead: `pl.lit('WIN')`\n",
      "  pl.when(pl.col('HTR')=='H').then('WIN')\n",
      "/var/folders/07/v1ngwnc136b1lhw5lqnq_fjw0000gn/T/ipykernel_14384/1868965930.py:28: DeprecationWarning: in a future version, string input will be parsed as a column name rather than a string literal. To silence this warning, pass the input as an expression instead: `pl.lit('LOSE')`\n",
      "  (pl.when(pl.col('HTR')=='A').then('LOSE'))\n",
      "/var/folders/07/v1ngwnc136b1lhw5lqnq_fjw0000gn/T/ipykernel_14384/1868965930.py:29: DeprecationWarning: in a future version, string input will be parsed as a column name rather than a string literal. To silence this warning, pass the input as an expression instead: `pl.lit('DRAW')`\n",
      "  .otherwise('DRAW')\n",
      "/var/folders/07/v1ngwnc136b1lhw5lqnq_fjw0000gn/T/ipykernel_14384/1868965930.py:32: DeprecationWarning: in a future version, string input will be parsed as a column name rather than a string literal. To silence this warning, pass the input as an expression instead: `pl.lit('WIN')`\n",
      "  pl.when(pl.col('FTR')=='H').then('WIN')\n",
      "/var/folders/07/v1ngwnc136b1lhw5lqnq_fjw0000gn/T/ipykernel_14384/1868965930.py:34: DeprecationWarning: in a future version, string input will be parsed as a column name rather than a string literal. To silence this warning, pass the input as an expression instead: `pl.lit('LOSE')`\n",
      "  (pl.when(pl.col('FTR')=='A').then('LOSE'))\n",
      "/var/folders/07/v1ngwnc136b1lhw5lqnq_fjw0000gn/T/ipykernel_14384/1868965930.py:35: DeprecationWarning: in a future version, string input will be parsed as a column name rather than a string literal. To silence this warning, pass the input as an expression instead: `pl.lit('DRAW')`\n",
      "  .otherwise('DRAW')\n",
      "/var/folders/07/v1ngwnc136b1lhw5lqnq_fjw0000gn/T/ipykernel_14384/1868965930.py:67: DeprecationWarning: in a future version, string input will be parsed as a column name rather than a string literal. To silence this warning, pass the input as an expression instead: `pl.lit('LOSE')`\n",
      "  pl.when(pl.col('HTR')=='H').then('LOSE')\n",
      "/var/folders/07/v1ngwnc136b1lhw5lqnq_fjw0000gn/T/ipykernel_14384/1868965930.py:69: DeprecationWarning: in a future version, string input will be parsed as a column name rather than a string literal. To silence this warning, pass the input as an expression instead: `pl.lit('WIN')`\n",
      "  (pl.when(pl.col('HTR')=='A').then('WIN'))\n",
      "/var/folders/07/v1ngwnc136b1lhw5lqnq_fjw0000gn/T/ipykernel_14384/1868965930.py:70: DeprecationWarning: in a future version, string input will be parsed as a column name rather than a string literal. To silence this warning, pass the input as an expression instead: `pl.lit('DRAW')`\n",
      "  .otherwise('DRAW')\n",
      "/var/folders/07/v1ngwnc136b1lhw5lqnq_fjw0000gn/T/ipykernel_14384/1868965930.py:73: DeprecationWarning: in a future version, string input will be parsed as a column name rather than a string literal. To silence this warning, pass the input as an expression instead: `pl.lit('LOSE')`\n",
      "  pl.when(pl.col('FTR')=='H').then('LOSE')\n",
      "/var/folders/07/v1ngwnc136b1lhw5lqnq_fjw0000gn/T/ipykernel_14384/1868965930.py:75: DeprecationWarning: in a future version, string input will be parsed as a column name rather than a string literal. To silence this warning, pass the input as an expression instead: `pl.lit('WIN')`\n",
      "  (pl.when(pl.col('FTR')=='A').then('WIN'))\n",
      "/var/folders/07/v1ngwnc136b1lhw5lqnq_fjw0000gn/T/ipykernel_14384/1868965930.py:76: DeprecationWarning: in a future version, string input will be parsed as a column name rather than a string literal. To silence this warning, pass the input as an expression instead: `pl.lit('DRAW')`\n",
      "  .otherwise('DRAW')\n"
     ]
    },
    {
     "data": {
      "text/html": [
       "<div><style>\n",
       ".dataframe > thead > tr,\n",
       ".dataframe > tbody > tr {\n",
       "  text-align: right;\n",
       "  white-space: pre-wrap;\n",
       "}\n",
       "</style>\n",
       "<small>shape: (5, 24)</small><table border=\"1\" class=\"dataframe\"><thead><tr><th>Div</th><th>Date</th><th>Team</th><th>Oponent</th><th>Oponent_FTG</th><th>FTG</th><th>FTR</th><th>Oponent_HTG</th><th>HTG</th><th>HTR</th><th>Referee</th><th>Oponent_S</th><th>S</th><th>Oponent_ST</th><th>ST</th><th>Oponent_F</th><th>F</th><th>Oponent_C</th><th>C</th><th>Oponent_Y</th><th>Y</th><th>Oponent_R</th><th>R</th><th>Venue</th></tr><tr><td>str</td><td>str</td><td>str</td><td>str</td><td>i64</td><td>i64</td><td>str</td><td>i64</td><td>i64</td><td>str</td><td>str</td><td>i64</td><td>i64</td><td>i64</td><td>i64</td><td>i64</td><td>i64</td><td>i64</td><td>i64</td><td>i64</td><td>i64</td><td>i64</td><td>i64</td><td>str</td></tr></thead><tbody><tr><td>&quot;E0&quot;</td><td>&quot;10/8/18&quot;</td><td>&quot;Man United&quot;</td><td>&quot;Leicester&quot;</td><td>1</td><td>2</td><td>&quot;WIN&quot;</td><td>0</td><td>1</td><td>&quot;WIN&quot;</td><td>&quot;A Marriner&quot;</td><td>13</td><td>8</td><td>4</td><td>6</td><td>8</td><td>11</td><td>5</td><td>2</td><td>1</td><td>2</td><td>0</td><td>0</td><td>&quot;HOME&quot;</td></tr><tr><td>&quot;E0&quot;</td><td>&quot;11/8/18&quot;</td><td>&quot;Bournemouth&quot;</td><td>&quot;Cardiff&quot;</td><td>0</td><td>2</td><td>&quot;WIN&quot;</td><td>0</td><td>1</td><td>&quot;WIN&quot;</td><td>&quot;K Friend&quot;</td><td>10</td><td>12</td><td>1</td><td>4</td><td>9</td><td>11</td><td>4</td><td>7</td><td>1</td><td>1</td><td>0</td><td>0</td><td>&quot;HOME&quot;</td></tr><tr><td>&quot;E0&quot;</td><td>&quot;11/8/18&quot;</td><td>&quot;Fulham&quot;</td><td>&quot;Crystal Palace…</td><td>2</td><td>0</td><td>&quot;LOSE&quot;</td><td>1</td><td>0</td><td>&quot;LOSE&quot;</td><td>&quot;M Dean&quot;</td><td>10</td><td>15</td><td>9</td><td>6</td><td>11</td><td>9</td><td>5</td><td>5</td><td>2</td><td>1</td><td>0</td><td>0</td><td>&quot;HOME&quot;</td></tr><tr><td>&quot;E0&quot;</td><td>&quot;11/8/18&quot;</td><td>&quot;Huddersfield&quot;</td><td>&quot;Chelsea&quot;</td><td>3</td><td>0</td><td>&quot;LOSE&quot;</td><td>2</td><td>0</td><td>&quot;LOSE&quot;</td><td>&quot;C Kavanagh&quot;</td><td>13</td><td>6</td><td>4</td><td>1</td><td>8</td><td>9</td><td>5</td><td>2</td><td>1</td><td>2</td><td>0</td><td>0</td><td>&quot;HOME&quot;</td></tr><tr><td>&quot;E0&quot;</td><td>&quot;11/8/18&quot;</td><td>&quot;Newcastle&quot;</td><td>&quot;Tottenham&quot;</td><td>2</td><td>1</td><td>&quot;LOSE&quot;</td><td>2</td><td>1</td><td>&quot;LOSE&quot;</td><td>&quot;M Atkinson&quot;</td><td>15</td><td>15</td><td>5</td><td>2</td><td>12</td><td>11</td><td>5</td><td>3</td><td>2</td><td>2</td><td>0</td><td>0</td><td>&quot;HOME&quot;</td></tr></tbody></table></div>"
      ],
      "text/plain": [
       "shape: (5, 24)\n",
       "┌─────┬─────────┬──────────────┬────────────────┬───┬─────┬───────────┬─────┬───────┐\n",
       "│ Div ┆ Date    ┆ Team         ┆ Oponent        ┆ … ┆ Y   ┆ Oponent_R ┆ R   ┆ Venue │\n",
       "│ --- ┆ ---     ┆ ---          ┆ ---            ┆   ┆ --- ┆ ---       ┆ --- ┆ ---   │\n",
       "│ str ┆ str     ┆ str          ┆ str            ┆   ┆ i64 ┆ i64       ┆ i64 ┆ str   │\n",
       "╞═════╪═════════╪══════════════╪════════════════╪═══╪═════╪═══════════╪═════╪═══════╡\n",
       "│ E0  ┆ 10/8/18 ┆ Man United   ┆ Leicester      ┆ … ┆ 2   ┆ 0         ┆ 0   ┆ HOME  │\n",
       "│ E0  ┆ 11/8/18 ┆ Bournemouth  ┆ Cardiff        ┆ … ┆ 1   ┆ 0         ┆ 0   ┆ HOME  │\n",
       "│ E0  ┆ 11/8/18 ┆ Fulham       ┆ Crystal Palace ┆ … ┆ 1   ┆ 0         ┆ 0   ┆ HOME  │\n",
       "│ E0  ┆ 11/8/18 ┆ Huddersfield ┆ Chelsea        ┆ … ┆ 2   ┆ 0         ┆ 0   ┆ HOME  │\n",
       "│ E0  ┆ 11/8/18 ┆ Newcastle    ┆ Tottenham      ┆ … ┆ 2   ┆ 0         ┆ 0   ┆ HOME  │\n",
       "└─────┴─────────┴──────────────┴────────────────┴───┴─────┴───────────┴─────┴───────┘"
      ]
     },
     "execution_count": 13,
     "metadata": {},
     "output_type": "execute_result"
    }
   ],
   "source": [
    "\n",
    "# Home team reshape\n",
    "col_home=['Div','Date','Team','Oponent','Oponent_FTG','FTG','FTR','Oponent_HTG','HTG','HTR','Referee','Oponent_S','S','Oponent_ST','ST','Oponent_F','F','Oponent_C','C','Oponent_Y','Y','Oponent_R','R','Venue']\n",
    "rename_col_home={\n",
    "    'Div':'Div',\n",
    "    'HomeTeam':'Team',\n",
    "    'AwayTeam':'Oponent',\n",
    "    'FTHG':'FTG',\n",
    "    'HTHG':'HTG',\n",
    "    'HS':'S',\n",
    "    'HST':'ST',\n",
    "    'HF':'F',\n",
    "    'HC':'C',\n",
    "    'HY':'Y',\n",
    "    'HR':'R',\n",
    "    'FTAG':'Oponent_FTG',\n",
    "    'HTAG':'Oponent_HTG',\n",
    "    'AS':'Oponent_S',\n",
    "    'AST':'Oponent_ST',\n",
    "    'AF':'Oponent_F',\n",
    "    'AC':'Oponent_C',\n",
    "    'AY':'Oponent_Y',\n",
    "    'AR':'Oponent_R' \n",
    "    }\n",
    "\n",
    "df_home=df.with_columns(\n",
    "    pl.when(pl.col('HTR')=='H').then('WIN')\n",
    "    .otherwise(\n",
    "        (pl.when(pl.col('HTR')=='A').then('LOSE'))\n",
    "            .otherwise('DRAW')\n",
    "    )\n",
    "    .alias('HTR'),\n",
    "    pl.when(pl.col('FTR')=='H').then('WIN')\n",
    "    .otherwise(\n",
    "        (pl.when(pl.col('FTR')=='A').then('LOSE'))\n",
    "            .otherwise('DRAW')\n",
    "    )\n",
    "    .alias('FTR'),\n",
    "    pl.lit('HOME').alias('Venue')\n",
    "    ).rename(rename_col_home).select(col_home)\n",
    "\n",
    "# Away Team reshape\n",
    "col_away=['Div','Date','Team','Oponent','Oponent_FTG','FTG','FTR','Oponent_HTG','HTG','HTR','Referee','Oponent_S','S','Oponent_ST','ST','Oponent_F','F','Oponent_C','C','Oponent_Y','Y','Oponent_R','R','Venue']\n",
    "\n",
    "rename_col_away={\n",
    "    'Div':'Div',\n",
    "    'HomeTeam':'Oponent',\n",
    "    'AwayTeam':'Team',\n",
    "    'FTAG':'FTG',\n",
    "    'HTAG':'HTG',\n",
    "    'AS':'S',\n",
    "    'AST':'ST',\n",
    "    'AF':'F',\n",
    "    'AC':'C',\n",
    "    'AY':'Y',\n",
    "    'AR':'R',\n",
    "    'FTHG':'Oponent_FTG',\n",
    "    'HTHG':'Oponent_HTG',\n",
    "    'HS':'Oponent_S',\n",
    "    'HST':'Oponent_ST',\n",
    "    'HF':'Oponent_F',\n",
    "    'HC':'Oponent_C',\n",
    "    'HY':'Oponent_Y',\n",
    "    'HR':'Oponent_R' \n",
    "    }\n",
    "\n",
    "df_away=df.with_columns(\n",
    "    \n",
    "    pl.when(pl.col('HTR')=='H').then('LOSE')\n",
    "    .otherwise(\n",
    "        (pl.when(pl.col('HTR')=='A').then('WIN'))\n",
    "            .otherwise('DRAW')\n",
    "    )\n",
    "    .alias('HTR'),\n",
    "    pl.when(pl.col('FTR')=='H').then('LOSE')\n",
    "    .otherwise(\n",
    "        (pl.when(pl.col('FTR')=='A').then('WIN'))\n",
    "            .otherwise('DRAW')\n",
    "    )\n",
    "    .alias('FTR'),\n",
    "    pl.lit('HOME').alias('Venue')\n",
    "    ).rename(rename_col_away).select(col_away)\n",
    "\n",
    "\n",
    "# Aggregate\n",
    "df2=pl.concat([df_home,df_away])\n",
    "\n",
    "\n",
    "df2.write_csv(os.path.join(path_auto,'df2.csv'))\n",
    "\n",
    "print ('Shape:',df2.shape)\n",
    "\n",
    "df2.head(5)\n"
   ]
  },
  {
   "cell_type": "markdown",
   "metadata": {},
   "source": [
    "### Group per team, concentrate on fouls"
   ]
  },
  {
   "cell_type": "code",
   "execution_count": 19,
   "metadata": {},
   "outputs": [
    {
     "data": {
      "text/html": [
       "<div><style>\n",
       ".dataframe > thead > tr,\n",
       ".dataframe > tbody > tr {\n",
       "  text-align: right;\n",
       "  white-space: pre-wrap;\n",
       "}\n",
       "</style>\n",
       "<small>shape: (5, 5)</small><table border=\"1\" class=\"dataframe\"><thead><tr><th>Team</th><th>F_mean</th><th>F_min</th><th>F_max</th><th>F_std</th></tr><tr><td>str</td><td>f64</td><td>i64</td><td>i64</td><td>f64</td></tr></thead><tbody><tr><td>&quot;Liverpool&quot;</td><td>8.289474</td><td>3</td><td>17</td><td>3.819636</td></tr><tr><td>&quot;Man City&quot;</td><td>8.631579</td><td>2</td><td>14</td><td>3.10554</td></tr><tr><td>&quot;West Ham&quot;</td><td>8.710526</td><td>2</td><td>14</td><td>2.577532</td></tr><tr><td>&quot;Bournemouth&quot;</td><td>8.921053</td><td>3</td><td>14</td><td>2.644541</td></tr><tr><td>&quot;Chelsea&quot;</td><td>8.921053</td><td>5</td><td>15</td><td>2.529625</td></tr></tbody></table></div>"
      ],
      "text/plain": [
       "shape: (5, 5)\n",
       "┌─────────────┬──────────┬───────┬───────┬──────────┐\n",
       "│ Team        ┆ F_mean   ┆ F_min ┆ F_max ┆ F_std    │\n",
       "│ ---         ┆ ---      ┆ ---   ┆ ---   ┆ ---      │\n",
       "│ str         ┆ f64      ┆ i64   ┆ i64   ┆ f64      │\n",
       "╞═════════════╪══════════╪═══════╪═══════╪══════════╡\n",
       "│ Liverpool   ┆ 8.289474 ┆ 3     ┆ 17    ┆ 3.819636 │\n",
       "│ Man City    ┆ 8.631579 ┆ 2     ┆ 14    ┆ 3.10554  │\n",
       "│ West Ham    ┆ 8.710526 ┆ 2     ┆ 14    ┆ 2.577532 │\n",
       "│ Bournemouth ┆ 8.921053 ┆ 3     ┆ 14    ┆ 2.644541 │\n",
       "│ Chelsea     ┆ 8.921053 ┆ 5     ┆ 15    ┆ 2.529625 │\n",
       "└─────────────┴──────────┴───────┴───────┴──────────┘"
      ]
     },
     "execution_count": 19,
     "metadata": {},
     "output_type": "execute_result"
    }
   ],
   "source": [
    "df3=df2.group_by('Team').agg(\n",
    "    pl.col('F').mean().alias('F_mean'),\n",
    "    pl.col('F').min().alias('F_min'),\n",
    "    pl.col('F').max().alias('F_max'),\n",
    "    pl.col('F').std().alias('F_std')\n",
    ").sort('F_mean')\n",
    "\n",
    "df3.write_csv(os.path.join(path_auto,'df3.csv'))\n",
    "\n",
    "df3.head(5)"
   ]
  },
  {
   "cell_type": "markdown",
   "metadata": {},
   "source": [
    "## Percentage of Home win vs Away Win vs Draw"
   ]
  },
  {
   "cell_type": "code",
   "execution_count": 20,
   "metadata": {},
   "outputs": [
    {
     "data": {
      "text/html": [
       "<div><style>\n",
       ".dataframe > thead > tr,\n",
       ".dataframe > tbody > tr {\n",
       "  text-align: right;\n",
       "  white-space: pre-wrap;\n",
       "}\n",
       "</style>\n",
       "<small>shape: (3, 2)</small><table border=\"1\" class=\"dataframe\"><thead><tr><th>FTR</th><th>Number</th></tr><tr><td>str</td><td>u32</td></tr></thead><tbody><tr><td>&quot;H&quot;</td><td>181</td></tr><tr><td>&quot;D&quot;</td><td>71</td></tr><tr><td>&quot;A&quot;</td><td>128</td></tr></tbody></table></div>"
      ],
      "text/plain": [
       "shape: (3, 2)\n",
       "┌─────┬────────┐\n",
       "│ FTR ┆ Number │\n",
       "│ --- ┆ ---    │\n",
       "│ str ┆ u32    │\n",
       "╞═════╪════════╡\n",
       "│ H   ┆ 181    │\n",
       "│ D   ┆ 71     │\n",
       "│ A   ┆ 128    │\n",
       "└─────┴────────┘"
      ]
     },
     "execution_count": 20,
     "metadata": {},
     "output_type": "execute_result"
    }
   ],
   "source": [
    "df4=df.group_by('FTR').agg(\n",
    "    pl.col('Div').count().alias('Number')\n",
    ")\n",
    "\n",
    "df4.write_csv(os.path.join(path_auto,'df4.csv'))\n",
    "\n",
    "\n",
    "df4"
   ]
  },
  {
   "cell_type": "markdown",
   "metadata": {},
   "source": [
    "## Impact of Red cards on the win probablity"
   ]
  },
  {
   "cell_type": "code",
   "execution_count": 21,
   "metadata": {},
   "outputs": [
    {
     "data": {
      "text/plain": [
       "<bound method DataFrame.head of shape: (3, 4)\n",
       "┌─────┬──────┬──────┬─────┐\n",
       "│ R   ┆ LOSE ┆ DRAW ┆ WIN │\n",
       "│ --- ┆ ---  ┆ ---  ┆ --- │\n",
       "│ i64 ┆ u32  ┆ u32  ┆ u32 │\n",
       "╞═════╪══════╪══════╪═════╡\n",
       "│ 1   ┆ 25   ┆ 9    ┆ 11  │\n",
       "│ 0   ┆ 283  ┆ 133  ┆ 298 │\n",
       "│ 2   ┆ 1    ┆ 0    ┆ 0   │\n",
       "└─────┴──────┴──────┴─────┘>"
      ]
     },
     "execution_count": 21,
     "metadata": {},
     "output_type": "execute_result"
    }
   ],
   "source": [
    "df5=df2.group_by(['R','FTR']).agg(\n",
    "    pl.col('Div').count().alias('Count'),\n",
    ")\n",
    "\n",
    "df6=df5.pivot(values=\"Count\", index=\"R\", columns=\"FTR\", aggregate_function=\"sum\").fill_null(0)\n",
    "\n",
    "df6.write_csv(os.path.join(path_auto,'df6.csv'))\n",
    "\n",
    "df6.head"
   ]
  },
  {
   "cell_type": "markdown",
   "metadata": {},
   "source": [
    "## Impact of Half Time Score on the Full Time Score"
   ]
  },
  {
   "cell_type": "code",
   "execution_count": 22,
   "metadata": {},
   "outputs": [
    {
     "data": {
      "text/html": [
       "<div><style>\n",
       ".dataframe > thead > tr,\n",
       ".dataframe > tbody > tr {\n",
       "  text-align: right;\n",
       "  white-space: pre-wrap;\n",
       "}\n",
       "</style>\n",
       "<small>shape: (3, 4)</small><table border=\"1\" class=\"dataframe\"><thead><tr><th>HTR</th><th>WIN</th><th>LOSE</th><th>DRAW</th></tr><tr><td>str</td><td>u32</td><td>u32</td><td>u32</td></tr></thead><tbody><tr><td>&quot;WIN&quot;</td><td>186</td><td>17</td><td>29</td></tr><tr><td>&quot;DRAW&quot;</td><td>106</td><td>106</td><td>84</td></tr><tr><td>&quot;LOSE&quot;</td><td>17</td><td>186</td><td>29</td></tr></tbody></table></div>"
      ],
      "text/plain": [
       "shape: (3, 4)\n",
       "┌──────┬─────┬──────┬──────┐\n",
       "│ HTR  ┆ WIN ┆ LOSE ┆ DRAW │\n",
       "│ ---  ┆ --- ┆ ---  ┆ ---  │\n",
       "│ str  ┆ u32 ┆ u32  ┆ u32  │\n",
       "╞══════╪═════╪══════╪══════╡\n",
       "│ WIN  ┆ 186 ┆ 17   ┆ 29   │\n",
       "│ DRAW ┆ 106 ┆ 106  ┆ 84   │\n",
       "│ LOSE ┆ 17  ┆ 186  ┆ 29   │\n",
       "└──────┴─────┴──────┴──────┘"
      ]
     },
     "execution_count": 22,
     "metadata": {},
     "output_type": "execute_result"
    }
   ],
   "source": [
    "df7=df2.group_by(['HTR','FTR']).agg(\n",
    "    pl.col('Div').count().alias('Count'),\n",
    ").pivot(values=\"Count\", index=\"HTR\", columns=\"FTR\", aggregate_function=\"sum\").fill_null(0)\n",
    "\n",
    "df7"
   ]
  },
  {
   "cell_type": "markdown",
   "metadata": {},
   "source": [
    "## Half Time Decision making Dataset"
   ]
  },
  {
   "cell_type": "code",
   "execution_count": 23,
   "metadata": {},
   "outputs": [
    {
     "data": {
      "text/html": [
       "<div><style>\n",
       ".dataframe > thead > tr,\n",
       ".dataframe > tbody > tr {\n",
       "  text-align: right;\n",
       "  white-space: pre-wrap;\n",
       "}\n",
       "</style>\n",
       "<small>shape: (5, 9)</small><table border=\"1\" class=\"dataframe\"><thead><tr><th>Div</th><th>Team</th><th>Oponent</th><th>Oponent_HTG</th><th>HTG</th><th>HTR</th><th>Referee</th><th>Venue</th><th>FTR</th></tr><tr><td>str</td><td>str</td><td>str</td><td>i64</td><td>i64</td><td>str</td><td>str</td><td>str</td><td>str</td></tr></thead><tbody><tr><td>&quot;E0&quot;</td><td>&quot;Man United&quot;</td><td>&quot;Leicester&quot;</td><td>0</td><td>1</td><td>&quot;WIN&quot;</td><td>&quot;A Marriner&quot;</td><td>&quot;HOME&quot;</td><td>&quot;WIN&quot;</td></tr><tr><td>&quot;E0&quot;</td><td>&quot;Bournemouth&quot;</td><td>&quot;Cardiff&quot;</td><td>0</td><td>1</td><td>&quot;WIN&quot;</td><td>&quot;K Friend&quot;</td><td>&quot;HOME&quot;</td><td>&quot;WIN&quot;</td></tr><tr><td>&quot;E0&quot;</td><td>&quot;Fulham&quot;</td><td>&quot;Crystal Palace…</td><td>1</td><td>0</td><td>&quot;LOSE&quot;</td><td>&quot;M Dean&quot;</td><td>&quot;HOME&quot;</td><td>&quot;LOSE&quot;</td></tr><tr><td>&quot;E0&quot;</td><td>&quot;Huddersfield&quot;</td><td>&quot;Chelsea&quot;</td><td>2</td><td>0</td><td>&quot;LOSE&quot;</td><td>&quot;C Kavanagh&quot;</td><td>&quot;HOME&quot;</td><td>&quot;LOSE&quot;</td></tr><tr><td>&quot;E0&quot;</td><td>&quot;Newcastle&quot;</td><td>&quot;Tottenham&quot;</td><td>2</td><td>1</td><td>&quot;LOSE&quot;</td><td>&quot;M Atkinson&quot;</td><td>&quot;HOME&quot;</td><td>&quot;LOSE&quot;</td></tr></tbody></table></div>"
      ],
      "text/plain": [
       "shape: (5, 9)\n",
       "┌─────┬──────────────┬────────────────┬─────────────┬───┬──────┬────────────┬───────┬──────┐\n",
       "│ Div ┆ Team         ┆ Oponent        ┆ Oponent_HTG ┆ … ┆ HTR  ┆ Referee    ┆ Venue ┆ FTR  │\n",
       "│ --- ┆ ---          ┆ ---            ┆ ---         ┆   ┆ ---  ┆ ---        ┆ ---   ┆ ---  │\n",
       "│ str ┆ str          ┆ str            ┆ i64         ┆   ┆ str  ┆ str        ┆ str   ┆ str  │\n",
       "╞═════╪══════════════╪════════════════╪═════════════╪═══╪══════╪════════════╪═══════╪══════╡\n",
       "│ E0  ┆ Man United   ┆ Leicester      ┆ 0           ┆ … ┆ WIN  ┆ A Marriner ┆ HOME  ┆ WIN  │\n",
       "│ E0  ┆ Bournemouth  ┆ Cardiff        ┆ 0           ┆ … ┆ WIN  ┆ K Friend   ┆ HOME  ┆ WIN  │\n",
       "│ E0  ┆ Fulham       ┆ Crystal Palace ┆ 1           ┆ … ┆ LOSE ┆ M Dean     ┆ HOME  ┆ LOSE │\n",
       "│ E0  ┆ Huddersfield ┆ Chelsea        ┆ 2           ┆ … ┆ LOSE ┆ C Kavanagh ┆ HOME  ┆ LOSE │\n",
       "│ E0  ┆ Newcastle    ┆ Tottenham      ┆ 2           ┆ … ┆ LOSE ┆ M Atkinson ┆ HOME  ┆ LOSE │\n",
       "└─────┴──────────────┴────────────────┴─────────────┴───┴──────┴────────────┴───────┴──────┘"
      ]
     },
     "execution_count": 23,
     "metadata": {},
     "output_type": "execute_result"
    }
   ],
   "source": [
    "col_half=['Div','Team','Oponent','Oponent_HTG','HTG','HTR','Referee','Venue','FTR']\n",
    "\n",
    "df_half=df2.select(col_half)\n",
    "\n",
    "df_half.write_csv(os.path.join(path_auto,'df_half.csv'))\n",
    "\n",
    "df_half.head(5)"
   ]
  },
  {
   "cell_type": "code",
   "execution_count": null,
   "metadata": {},
   "outputs": [],
   "source": []
  }
 ],
 "metadata": {
  "kernelspec": {
   "display_name": "ph",
   "language": "python",
   "name": "python3"
  },
  "language_info": {
   "codemirror_mode": {
    "name": "ipython",
    "version": 3
   },
   "file_extension": ".py",
   "mimetype": "text/x-python",
   "name": "python",
   "nbconvert_exporter": "python",
   "pygments_lexer": "ipython3",
   "version": "3.11.2"
  }
 },
 "nbformat": 4,
 "nbformat_minor": 2
}
